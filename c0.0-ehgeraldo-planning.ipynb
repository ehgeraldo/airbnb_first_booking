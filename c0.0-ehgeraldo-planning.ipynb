{
 "cells": [
  {
   "cell_type": "markdown",
   "metadata": {},
   "source": [
    "# PA001: Airbnb"
   ]
  },
  {
   "cell_type": "markdown",
   "metadata": {},
   "source": [
    "# Planejamento da solução (IOT)"
   ]
  },
  {
   "cell_type": "markdown",
   "metadata": {
    "heading_collapsed": true
   },
   "source": [
    "# Input - Entrada \n",
    "   "
   ]
  },
  {
   "cell_type": "markdown",
   "metadata": {
    "heading_collapsed": true,
    "hidden": true
   },
   "source": [
    "## O problema de negócio\n",
    "\n",
    " 1. Mapear as previsões de escolha de destino aos usuários de uma plataforma de locação de hospedagem."
   ]
  },
  {
   "cell_type": "markdown",
   "metadata": {
    "heading_collapsed": true
   },
   "source": [
    "# Output - Saída"
   ]
  },
  {
   "cell_type": "markdown",
   "metadata": {
    "hidden": true
   },
   "source": [
    "## Modelo de Previsão para escolha do primeiro destino do usuário.\n",
    "\n",
    "\n",
    "   1.0. Predições serão salvas em uma tabela do banco de dados.\n",
    "\n",
    "   2.0. API\n",
    "\n",
    "   Input: usuários e suas características;\n",
    "\n",
    "   Output: usuários e suas características com a predição do destino;"
   ]
  },
  {
   "cell_type": "markdown",
   "metadata": {
    "heading_collapsed": true
   },
   "source": [
    "# Tasks - Processo"
   ]
  },
  {
   "cell_type": "markdown",
   "metadata": {
    "ExecuteTime": {
     "end_time": "2022-08-06T02:05:32.103047Z",
     "start_time": "2022-08-06T02:05:32.088880Z"
    },
    "hidden": true
   },
   "source": [
    " * New York City Airbnb Open Data:\n",
    " * https://www.kaggle.com/datasets/dgomonov/new-york-city-airbnb-open-data/code\n",
    " * Airbnb listings and metrics in NYC, NY, USA (2019)\n",
    "    \n",
    "\n",
    "*- Compreensão do modelo de negócio do Airbnb*\n",
    "   - Marketplace ( Conectar pessoas que oferecem acomodação, com pessoas que estão procurando acomodação).\n",
    " \n",
    "    \n",
    "*- Usuários oferecem acomodações*\n",
    "   - Tamanho do portfólio.\n",
    "   - Diversidade/Densidade de Portfólio.\n",
    "   - Preço Médio\n",
    "\n",
    "*- Alta demanda* (usuário que não desejam hotel).\n",
    "   - Número de Usuários\n",
    "   - LTV ( Lifetime Value )\n",
    "   - CAC ( Client Acquisition Cost )\n",
    "   - Gross Revenue = ( Fee*Número cliente ) - CAC "
   ]
  },
  {
   "cell_type": "markdown",
   "metadata": {},
   "source": [
    "# Imports"
   ]
  },
  {
   "cell_type": "code",
   "execution_count": 1,
   "metadata": {
    "ExecuteTime": {
     "end_time": "2022-08-25T01:23:03.974119Z",
     "start_time": "2022-08-25T01:22:53.572810Z"
    }
   },
   "outputs": [
    {
     "name": "stderr",
     "output_type": "stream",
     "text": [
      "/home/ehgeraldo/miniconda3/lib/python3.9/site-packages/scipy/__init__.py:146: UserWarning: A NumPy version >=1.16.5 and <1.23.0 is required for this version of SciPy (detected version 1.23.1\n",
      "  warnings.warn(f\"A NumPy version >={np_minversion} and <{np_maxversion}\"\n",
      "2022-08-24 22:22:57.727942: W tensorflow/stream_executor/platform/default/dso_loader.cc:64] Could not load dynamic library 'libcudart.so.11.0'; dlerror: libcudart.so.11.0: cannot open shared object file: No such file or directory\n",
      "2022-08-24 22:22:57.727976: I tensorflow/stream_executor/cuda/cudart_stub.cc:29] Ignore above cudart dlerror if you do not have a GPU set up on your machine.\n"
     ]
    }
   ],
   "source": [
    "import pandas as pd\n",
    "from sklearn import model_selection as ms\n",
    "from sklearn import preprocessing  as pp\n",
    "from sklearn import metrics         as m\n",
    "from scikitplot import metrics      as mt\n",
    "\n",
    "from keras import models as ml\n",
    "from keras import layers as l"
   ]
  },
  {
   "cell_type": "markdown",
   "metadata": {
    "heading_collapsed": true
   },
   "source": [
    "## Helper Functions"
   ]
  },
  {
   "cell_type": "markdown",
   "metadata": {},
   "source": [
    "## Loading Data"
   ]
  },
  {
   "cell_type": "code",
   "execution_count": 11,
   "metadata": {
    "ExecuteTime": {
     "end_time": "2022-08-17T17:03:09.582812Z",
     "start_time": "2022-08-17T17:03:09.563747Z"
    }
   },
   "outputs": [
    {
     "data": {
      "text/plain": [
       "'/home/ehgeraldo/repos/airbnb'"
      ]
     },
     "execution_count": 11,
     "metadata": {},
     "output_type": "execute_result"
    }
   ],
   "source": [
    "pwd"
   ]
  },
  {
   "cell_type": "code",
   "execution_count": 2,
   "metadata": {
    "ExecuteTime": {
     "end_time": "2022-08-25T01:23:05.361148Z",
     "start_time": "2022-08-25T01:23:03.987727Z"
    }
   },
   "outputs": [],
   "source": [
    "# load data\n",
    "df_raw = pd.read_csv('/home/ehgeraldo/repos/airbnb/data/train_users.csv')"
   ]
  },
  {
   "cell_type": "markdown",
   "metadata": {
    "ExecuteTime": {
     "end_time": "2022-08-07T23:18:52.741663Z",
     "start_time": "2022-08-07T23:18:52.734641Z"
    }
   },
   "source": [
    "# Data Description"
   ]
  },
  {
   "cell_type": "code",
   "execution_count": 3,
   "metadata": {
    "ExecuteTime": {
     "end_time": "2022-08-25T01:23:05.452264Z",
     "start_time": "2022-08-25T01:23:05.373477Z"
    }
   },
   "outputs": [],
   "source": [
    "df1 = df_raw.copy()"
   ]
  },
  {
   "cell_type": "markdown",
   "metadata": {},
   "source": [
    "### Data dimensions"
   ]
  },
  {
   "cell_type": "code",
   "execution_count": 4,
   "metadata": {
    "ExecuteTime": {
     "end_time": "2022-08-25T01:23:06.371878Z",
     "start_time": "2022-08-25T01:23:06.354035Z"
    }
   },
   "outputs": [
    {
     "name": "stdout",
     "output_type": "stream",
     "text": [
      "Number of rows:    213451\n",
      "Number of columns: 16\n"
     ]
    }
   ],
   "source": [
    "print( 'Number of rows:    {}'.format( df_raw.shape[0] ) )\n",
    "print( 'Number of columns: {}'.format( df_raw.shape[1] ) )"
   ]
  },
  {
   "cell_type": "markdown",
   "metadata": {},
   "source": [
    "### Data types"
   ]
  },
  {
   "cell_type": "code",
   "execution_count": 19,
   "metadata": {
    "ExecuteTime": {
     "end_time": "2022-08-17T17:06:30.542326Z",
     "start_time": "2022-08-17T17:06:30.524283Z"
    }
   },
   "outputs": [
    {
     "data": {
      "text/plain": [
       "id                          object\n",
       "date_account_created        object\n",
       "timestamp_first_active       int64\n",
       "date_first_booking          object\n",
       "gender                      object\n",
       "age                        float64\n",
       "signup_method               object\n",
       "signup_flow                  int64\n",
       "language                    object\n",
       "affiliate_channel           object\n",
       "affiliate_provider          object\n",
       "first_affiliate_tracked     object\n",
       "signup_app                  object\n",
       "first_device_type           object\n",
       "first_browser               object\n",
       "country_destination         object\n",
       "dtype: object"
      ]
     },
     "execution_count": 19,
     "metadata": {},
     "output_type": "execute_result"
    }
   ],
   "source": [
    "df1.dtypes"
   ]
  },
  {
   "cell_type": "markdown",
   "metadata": {},
   "source": [
    "### Check NAs"
   ]
  },
  {
   "cell_type": "code",
   "execution_count": 15,
   "metadata": {
    "ExecuteTime": {
     "end_time": "2022-08-25T01:26:28.099027Z",
     "start_time": "2022-08-25T01:26:27.506306Z"
    }
   },
   "outputs": [
    {
     "data": {
      "text/plain": [
       "id                              0\n",
       "date_account_created            0\n",
       "timestamp_first_active          0\n",
       "date_first_booking         124543\n",
       "gender                          0\n",
       "age                         87990\n",
       "signup_method                   0\n",
       "signup_flow                     0\n",
       "language                        0\n",
       "affiliate_channel               0\n",
       "affiliate_provider              0\n",
       "first_affiliate_tracked      6065\n",
       "signup_app                      0\n",
       "first_device_type               0\n",
       "first_browser                   0\n",
       "country_destination             0\n",
       "dtype: int64"
      ]
     },
     "execution_count": 15,
     "metadata": {},
     "output_type": "execute_result"
    }
   ],
   "source": [
    "df1.isna().sum()"
   ]
  },
  {
   "cell_type": "markdown",
   "metadata": {},
   "source": [
    "### Replace NAs"
   ]
  },
  {
   "cell_type": "code",
   "execution_count": 16,
   "metadata": {
    "ExecuteTime": {
     "end_time": "2022-08-25T01:26:28.877458Z",
     "start_time": "2022-08-25T01:26:28.106136Z"
    }
   },
   "outputs": [
    {
     "data": {
      "text/plain": [
       "(68171, 16)"
      ]
     },
     "execution_count": 16,
     "metadata": {},
     "output_type": "execute_result"
    }
   ],
   "source": [
    "df1 = df1.dropna()\n",
    "df1.shape"
   ]
  },
  {
   "cell_type": "code",
   "execution_count": 17,
   "metadata": {
    "ExecuteTime": {
     "end_time": "2022-08-25T01:26:28.905880Z",
     "start_time": "2022-08-25T01:26:28.890487Z"
    }
   },
   "outputs": [
    {
     "name": "stdout",
     "output_type": "stream",
     "text": [
      "Removed data: 0.68%\n"
     ]
    }
   ],
   "source": [
    "print('Removed data: {:.2f}%'.format( 1-(df1.shape[0] / df_raw.shape[0] ) ) )"
   ]
  },
  {
   "cell_type": "code",
   "execution_count": 18,
   "metadata": {
    "ExecuteTime": {
     "end_time": "2022-08-25T01:26:29.165995Z",
     "start_time": "2022-08-25T01:26:28.914003Z"
    }
   },
   "outputs": [
    {
     "data": {
      "text/plain": [
       "id                         0\n",
       "date_account_created       0\n",
       "timestamp_first_active     0\n",
       "date_first_booking         0\n",
       "gender                     0\n",
       "age                        0\n",
       "signup_method              0\n",
       "signup_flow                0\n",
       "language                   0\n",
       "affiliate_channel          0\n",
       "affiliate_provider         0\n",
       "first_affiliate_tracked    0\n",
       "signup_app                 0\n",
       "first_device_type          0\n",
       "first_browser              0\n",
       "country_destination        0\n",
       "dtype: int64"
      ]
     },
     "execution_count": 18,
     "metadata": {},
     "output_type": "execute_result"
    }
   ],
   "source": [
    "df1.isna().sum()"
   ]
  },
  {
   "cell_type": "code",
   "execution_count": 19,
   "metadata": {
    "ExecuteTime": {
     "end_time": "2022-08-25T01:26:29.657286Z",
     "start_time": "2022-08-25T01:26:29.177264Z"
    }
   },
   "outputs": [
    {
     "name": "stderr",
     "output_type": "stream",
     "text": [
      "/tmp/ipykernel_4290/3264500397.py:2: SettingWithCopyWarning: \n",
      "A value is trying to be set on a copy of a slice from a DataFrame.\n",
      "Try using .loc[row_indexer,col_indexer] = value instead\n",
      "\n",
      "See the caveats in the documentation: https://pandas.pydata.org/pandas-docs/stable/user_guide/indexing.html#returning-a-view-versus-a-copy\n",
      "  df1['date_account_created'] = pd.to_datetime( df1['date_account_created'] )\n"
     ]
    }
   ],
   "source": [
    "# date_account_created : (object -> datetime)\n",
    "df1['date_account_created'] = pd.to_datetime( df1['date_account_created'] )\n",
    "\n",
    "# timestamp_first_active : (int64 -> datetime)\n",
    "df1['timestamp_first_active'] = pd.to_datetime( df1['timestamp_first_active'], format='%Y%m%d%H%M%S' )\n",
    "\n",
    "# date_first_booking : (object -> datetime)\n",
    "df1['date_first_booking'] = pd.to_datetime( df1['date_first_booking'] )\n",
    "\n",
    "# age : (float64 -> int64)\n",
    "df1['age'] = df1['age'].astype( int )"
   ]
  },
  {
   "cell_type": "code",
   "execution_count": 20,
   "metadata": {
    "ExecuteTime": {
     "end_time": "2022-08-25T01:26:29.683464Z",
     "start_time": "2022-08-25T01:26:29.664753Z"
    }
   },
   "outputs": [
    {
     "data": {
      "text/plain": [
       "id                                 object\n",
       "date_account_created       datetime64[ns]\n",
       "timestamp_first_active     datetime64[ns]\n",
       "date_first_booking         datetime64[ns]\n",
       "gender                             object\n",
       "age                                 int64\n",
       "signup_method                      object\n",
       "signup_flow                         int64\n",
       "language                           object\n",
       "affiliate_channel                  object\n",
       "affiliate_provider                 object\n",
       "first_affiliate_tracked            object\n",
       "signup_app                         object\n",
       "first_device_type                  object\n",
       "first_browser                      object\n",
       "country_destination                object\n",
       "dtype: object"
      ]
     },
     "execution_count": 20,
     "metadata": {},
     "output_type": "execute_result"
    }
   ],
   "source": [
    "df1.dtypes"
   ]
  },
  {
   "cell_type": "code",
   "execution_count": 21,
   "metadata": {
    "ExecuteTime": {
     "end_time": "2022-08-25T01:26:29.739388Z",
     "start_time": "2022-08-25T01:26:29.693130Z"
    }
   },
   "outputs": [
    {
     "data": {
      "text/html": [
       "<div>\n",
       "<style scoped>\n",
       "    .dataframe tbody tr th:only-of-type {\n",
       "        vertical-align: middle;\n",
       "    }\n",
       "\n",
       "    .dataframe tbody tr th {\n",
       "        vertical-align: top;\n",
       "    }\n",
       "\n",
       "    .dataframe thead th {\n",
       "        text-align: right;\n",
       "    }\n",
       "</style>\n",
       "<table border=\"1\" class=\"dataframe\">\n",
       "  <thead>\n",
       "    <tr style=\"text-align: right;\">\n",
       "      <th></th>\n",
       "      <th>39784</th>\n",
       "    </tr>\n",
       "  </thead>\n",
       "  <tbody>\n",
       "    <tr>\n",
       "      <th>id</th>\n",
       "      <td>z5ma53l0w6</td>\n",
       "    </tr>\n",
       "    <tr>\n",
       "      <th>date_account_created</th>\n",
       "      <td>2012-09-06 00:00:00</td>\n",
       "    </tr>\n",
       "    <tr>\n",
       "      <th>timestamp_first_active</th>\n",
       "      <td>2012-09-06 17:05:42</td>\n",
       "    </tr>\n",
       "    <tr>\n",
       "      <th>date_first_booking</th>\n",
       "      <td>2013-06-12 00:00:00</td>\n",
       "    </tr>\n",
       "    <tr>\n",
       "      <th>gender</th>\n",
       "      <td>MALE</td>\n",
       "    </tr>\n",
       "    <tr>\n",
       "      <th>age</th>\n",
       "      <td>35</td>\n",
       "    </tr>\n",
       "    <tr>\n",
       "      <th>signup_method</th>\n",
       "      <td>facebook</td>\n",
       "    </tr>\n",
       "    <tr>\n",
       "      <th>signup_flow</th>\n",
       "      <td>0</td>\n",
       "    </tr>\n",
       "    <tr>\n",
       "      <th>language</th>\n",
       "      <td>en</td>\n",
       "    </tr>\n",
       "    <tr>\n",
       "      <th>affiliate_channel</th>\n",
       "      <td>direct</td>\n",
       "    </tr>\n",
       "    <tr>\n",
       "      <th>affiliate_provider</th>\n",
       "      <td>direct</td>\n",
       "    </tr>\n",
       "    <tr>\n",
       "      <th>first_affiliate_tracked</th>\n",
       "      <td>untracked</td>\n",
       "    </tr>\n",
       "    <tr>\n",
       "      <th>signup_app</th>\n",
       "      <td>Web</td>\n",
       "    </tr>\n",
       "    <tr>\n",
       "      <th>first_device_type</th>\n",
       "      <td>Mac Desktop</td>\n",
       "    </tr>\n",
       "    <tr>\n",
       "      <th>first_browser</th>\n",
       "      <td>Firefox</td>\n",
       "    </tr>\n",
       "    <tr>\n",
       "      <th>country_destination</th>\n",
       "      <td>other</td>\n",
       "    </tr>\n",
       "  </tbody>\n",
       "</table>\n",
       "</div>"
      ],
      "text/plain": [
       "                                       39784\n",
       "id                                z5ma53l0w6\n",
       "date_account_created     2012-09-06 00:00:00\n",
       "timestamp_first_active   2012-09-06 17:05:42\n",
       "date_first_booking       2013-06-12 00:00:00\n",
       "gender                                  MALE\n",
       "age                                       35\n",
       "signup_method                       facebook\n",
       "signup_flow                                0\n",
       "language                                  en\n",
       "affiliate_channel                     direct\n",
       "affiliate_provider                    direct\n",
       "first_affiliate_tracked            untracked\n",
       "signup_app                               Web\n",
       "first_device_type                Mac Desktop\n",
       "first_browser                        Firefox\n",
       "country_destination                    other"
      ]
     },
     "execution_count": 21,
     "metadata": {},
     "output_type": "execute_result"
    }
   ],
   "source": [
    "df1.sample().T"
   ]
  },
  {
   "cell_type": "markdown",
   "metadata": {},
   "source": [
    "## 1.4. Check Balanced Data"
   ]
  },
  {
   "cell_type": "code",
   "execution_count": 22,
   "metadata": {
    "ExecuteTime": {
     "end_time": "2022-08-25T01:26:29.799401Z",
     "start_time": "2022-08-25T01:26:29.747398Z"
    }
   },
   "outputs": [
    {
     "data": {
      "text/plain": [
       "US       0.708864\n",
       "other    0.110854\n",
       "FR       0.054085\n",
       "IT       0.029763\n",
       "GB       0.025935\n",
       "ES       0.024864\n",
       "CA       0.015696\n",
       "DE       0.012454\n",
       "NL       0.008801\n",
       "AU       0.006366\n",
       "PT       0.002318\n",
       "Name: country_destination, dtype: float64"
      ]
     },
     "execution_count": 22,
     "metadata": {},
     "output_type": "execute_result"
    }
   ],
   "source": [
    "df1['country_destination'].value_counts( normalize=True )"
   ]
  },
  {
   "cell_type": "markdown",
   "metadata": {},
   "source": [
    "# 2.0. Data Filtering"
   ]
  },
  {
   "cell_type": "code",
   "execution_count": 23,
   "metadata": {
    "ExecuteTime": {
     "end_time": "2022-08-25T01:26:30.036080Z",
     "start_time": "2022-08-25T01:26:30.004816Z"
    }
   },
   "outputs": [],
   "source": [
    "df2 = df1.copy()"
   ]
  },
  {
   "cell_type": "markdown",
   "metadata": {},
   "source": [
    "## 2.1. Filtering Rows"
   ]
  },
  {
   "cell_type": "markdown",
   "metadata": {},
   "source": [
    "## 2.2. Columns Selection"
   ]
  },
  {
   "cell_type": "markdown",
   "metadata": {},
   "source": [
    "# 3.0. Data Preparation"
   ]
  },
  {
   "cell_type": "code",
   "execution_count": 24,
   "metadata": {
    "ExecuteTime": {
     "end_time": "2022-08-25T01:26:31.040527Z",
     "start_time": "2022-08-25T01:26:31.004035Z"
    }
   },
   "outputs": [],
   "source": [
    "df3 = df2.copy()"
   ]
  },
  {
   "cell_type": "code",
   "execution_count": 25,
   "metadata": {
    "ExecuteTime": {
     "end_time": "2022-08-25T01:26:31.234848Z",
     "start_time": "2022-08-25T01:26:31.217788Z"
    }
   },
   "outputs": [
    {
     "data": {
      "text/plain": [
       "(68171, 16)"
      ]
     },
     "execution_count": 25,
     "metadata": {},
     "output_type": "execute_result"
    }
   ],
   "source": [
    "df3.shape"
   ]
  },
  {
   "cell_type": "code",
   "execution_count": 26,
   "metadata": {
    "ExecuteTime": {
     "end_time": "2022-08-25T01:26:31.913475Z",
     "start_time": "2022-08-25T01:26:31.391317Z"
    }
   },
   "outputs": [],
   "source": [
    "# dummy variable\n",
    "df3_dummy = pd.get_dummies( df3.drop( ['id', 'country_destination'], axis=1 ) )\n",
    "\n",
    "# join id and country destination\n",
    "df3 = pd.concat( [df3[['id','country_destination']], df3_dummy], axis=1 )"
   ]
  },
  {
   "cell_type": "code",
   "execution_count": 27,
   "metadata": {
    "ExecuteTime": {
     "end_time": "2022-08-25T01:26:31.935720Z",
     "start_time": "2022-08-25T01:26:31.919722Z"
    }
   },
   "outputs": [
    {
     "data": {
      "text/plain": [
       "(68171, 117)"
      ]
     },
     "execution_count": 27,
     "metadata": {},
     "output_type": "execute_result"
    }
   ],
   "source": [
    "df3.shape"
   ]
  },
  {
   "cell_type": "markdown",
   "metadata": {},
   "source": [
    "# 4.0. Feature Selection"
   ]
  },
  {
   "cell_type": "code",
   "execution_count": 28,
   "metadata": {
    "ExecuteTime": {
     "end_time": "2022-08-25T01:26:32.088653Z",
     "start_time": "2022-08-25T01:26:32.048624Z"
    }
   },
   "outputs": [],
   "source": [
    "# Remove columns irelevants to training models \n",
    "cols_drop = ['date_account_created', 'timestamp_first_active', 'date_first_booking'] # original dates\n",
    "df4 = df3.drop( cols_drop, axis=1 )"
   ]
  },
  {
   "cell_type": "code",
   "execution_count": 29,
   "metadata": {
    "ExecuteTime": {
     "end_time": "2022-08-25T01:26:32.325818Z",
     "start_time": "2022-08-25T01:26:32.288464Z"
    }
   },
   "outputs": [
    {
     "data": {
      "text/html": [
       "<div>\n",
       "<style scoped>\n",
       "    .dataframe tbody tr th:only-of-type {\n",
       "        vertical-align: middle;\n",
       "    }\n",
       "\n",
       "    .dataframe tbody tr th {\n",
       "        vertical-align: top;\n",
       "    }\n",
       "\n",
       "    .dataframe thead th {\n",
       "        text-align: right;\n",
       "    }\n",
       "</style>\n",
       "<table border=\"1\" class=\"dataframe\">\n",
       "  <thead>\n",
       "    <tr style=\"text-align: right;\">\n",
       "      <th></th>\n",
       "      <th>186704</th>\n",
       "    </tr>\n",
       "  </thead>\n",
       "  <tbody>\n",
       "    <tr>\n",
       "      <th>id</th>\n",
       "      <td>ja0a3a9cv1</td>\n",
       "    </tr>\n",
       "    <tr>\n",
       "      <th>country_destination</th>\n",
       "      <td>US</td>\n",
       "    </tr>\n",
       "    <tr>\n",
       "      <th>age</th>\n",
       "      <td>65</td>\n",
       "    </tr>\n",
       "    <tr>\n",
       "      <th>signup_flow</th>\n",
       "      <td>0</td>\n",
       "    </tr>\n",
       "    <tr>\n",
       "      <th>gender_-unknown-</th>\n",
       "      <td>0</td>\n",
       "    </tr>\n",
       "    <tr>\n",
       "      <th>...</th>\n",
       "      <td>...</td>\n",
       "    </tr>\n",
       "    <tr>\n",
       "      <th>first_browser_Sogou Explorer</th>\n",
       "      <td>0</td>\n",
       "    </tr>\n",
       "    <tr>\n",
       "      <th>first_browser_Stainless</th>\n",
       "      <td>0</td>\n",
       "    </tr>\n",
       "    <tr>\n",
       "      <th>first_browser_TenFourFox</th>\n",
       "      <td>0</td>\n",
       "    </tr>\n",
       "    <tr>\n",
       "      <th>first_browser_TheWorld Browser</th>\n",
       "      <td>0</td>\n",
       "    </tr>\n",
       "    <tr>\n",
       "      <th>first_browser_Yandex.Browser</th>\n",
       "      <td>0</td>\n",
       "    </tr>\n",
       "  </tbody>\n",
       "</table>\n",
       "<p>114 rows × 1 columns</p>\n",
       "</div>"
      ],
      "text/plain": [
       "                                    186704\n",
       "id                              ja0a3a9cv1\n",
       "country_destination                     US\n",
       "age                                     65\n",
       "signup_flow                              0\n",
       "gender_-unknown-                         0\n",
       "...                                    ...\n",
       "first_browser_Sogou Explorer             0\n",
       "first_browser_Stainless                  0\n",
       "first_browser_TenFourFox                 0\n",
       "first_browser_TheWorld Browser           0\n",
       "first_browser_Yandex.Browser             0\n",
       "\n",
       "[114 rows x 1 columns]"
      ]
     },
     "execution_count": 29,
     "metadata": {},
     "output_type": "execute_result"
    }
   ],
   "source": [
    "df4.sample().T"
   ]
  },
  {
   "cell_type": "markdown",
   "metadata": {},
   "source": [
    "# 5.0. Machine Learning Model  - Neural Network MLP"
   ]
  },
  {
   "cell_type": "code",
   "execution_count": 30,
   "metadata": {
    "ExecuteTime": {
     "end_time": "2022-08-25T01:26:32.777325Z",
     "start_time": "2022-08-25T01:26:32.743999Z"
    }
   },
   "outputs": [],
   "source": [
    "# Select data to train and test or \"train, validation, test\"\n",
    "\n",
    "# On X_train drop to 'country_destination' response variable \n",
    "x = df4.drop( 'country_destination', axis=1 )\n",
    "\n",
    "# On y_train include 'country_destination'\n",
    "y = df4['country_destination'].copy()"
   ]
  },
  {
   "cell_type": "code",
   "execution_count": 31,
   "metadata": {
    "ExecuteTime": {
     "end_time": "2022-08-25T01:26:33.011043Z",
     "start_time": "2022-08-25T01:26:32.956455Z"
    }
   },
   "outputs": [
    {
     "data": {
      "text/html": [
       "<div>\n",
       "<style scoped>\n",
       "    .dataframe tbody tr th:only-of-type {\n",
       "        vertical-align: middle;\n",
       "    }\n",
       "\n",
       "    .dataframe tbody tr th {\n",
       "        vertical-align: top;\n",
       "    }\n",
       "\n",
       "    .dataframe thead th {\n",
       "        text-align: right;\n",
       "    }\n",
       "</style>\n",
       "<table border=\"1\" class=\"dataframe\">\n",
       "  <thead>\n",
       "    <tr style=\"text-align: right;\">\n",
       "      <th></th>\n",
       "      <th>id</th>\n",
       "      <th>age</th>\n",
       "      <th>signup_flow</th>\n",
       "      <th>gender_-unknown-</th>\n",
       "      <th>gender_FEMALE</th>\n",
       "      <th>gender_MALE</th>\n",
       "      <th>gender_OTHER</th>\n",
       "      <th>signup_method_basic</th>\n",
       "      <th>signup_method_facebook</th>\n",
       "      <th>signup_method_google</th>\n",
       "      <th>...</th>\n",
       "      <th>first_browser_Safari</th>\n",
       "      <th>first_browser_SeaMonkey</th>\n",
       "      <th>first_browser_Silk</th>\n",
       "      <th>first_browser_SiteKiosk</th>\n",
       "      <th>first_browser_SlimBrowser</th>\n",
       "      <th>first_browser_Sogou Explorer</th>\n",
       "      <th>first_browser_Stainless</th>\n",
       "      <th>first_browser_TenFourFox</th>\n",
       "      <th>first_browser_TheWorld Browser</th>\n",
       "      <th>first_browser_Yandex.Browser</th>\n",
       "    </tr>\n",
       "  </thead>\n",
       "  <tbody>\n",
       "    <tr>\n",
       "      <th>2</th>\n",
       "      <td>4ft3gnwmtx</td>\n",
       "      <td>56</td>\n",
       "      <td>3</td>\n",
       "      <td>0</td>\n",
       "      <td>1</td>\n",
       "      <td>0</td>\n",
       "      <td>0</td>\n",
       "      <td>1</td>\n",
       "      <td>0</td>\n",
       "      <td>0</td>\n",
       "      <td>...</td>\n",
       "      <td>0</td>\n",
       "      <td>0</td>\n",
       "      <td>0</td>\n",
       "      <td>0</td>\n",
       "      <td>0</td>\n",
       "      <td>0</td>\n",
       "      <td>0</td>\n",
       "      <td>0</td>\n",
       "      <td>0</td>\n",
       "      <td>0</td>\n",
       "    </tr>\n",
       "    <tr>\n",
       "      <th>3</th>\n",
       "      <td>bjjt8pjhuk</td>\n",
       "      <td>42</td>\n",
       "      <td>0</td>\n",
       "      <td>0</td>\n",
       "      <td>1</td>\n",
       "      <td>0</td>\n",
       "      <td>0</td>\n",
       "      <td>0</td>\n",
       "      <td>1</td>\n",
       "      <td>0</td>\n",
       "      <td>...</td>\n",
       "      <td>0</td>\n",
       "      <td>0</td>\n",
       "      <td>0</td>\n",
       "      <td>0</td>\n",
       "      <td>0</td>\n",
       "      <td>0</td>\n",
       "      <td>0</td>\n",
       "      <td>0</td>\n",
       "      <td>0</td>\n",
       "      <td>0</td>\n",
       "    </tr>\n",
       "    <tr>\n",
       "      <th>4</th>\n",
       "      <td>87mebub9p4</td>\n",
       "      <td>41</td>\n",
       "      <td>0</td>\n",
       "      <td>1</td>\n",
       "      <td>0</td>\n",
       "      <td>0</td>\n",
       "      <td>0</td>\n",
       "      <td>1</td>\n",
       "      <td>0</td>\n",
       "      <td>0</td>\n",
       "      <td>...</td>\n",
       "      <td>0</td>\n",
       "      <td>0</td>\n",
       "      <td>0</td>\n",
       "      <td>0</td>\n",
       "      <td>0</td>\n",
       "      <td>0</td>\n",
       "      <td>0</td>\n",
       "      <td>0</td>\n",
       "      <td>0</td>\n",
       "      <td>0</td>\n",
       "    </tr>\n",
       "  </tbody>\n",
       "</table>\n",
       "<p>3 rows × 113 columns</p>\n",
       "</div>"
      ],
      "text/plain": [
       "           id  age  signup_flow  gender_-unknown-  gender_FEMALE  gender_MALE  \\\n",
       "2  4ft3gnwmtx   56            3                 0              1            0   \n",
       "3  bjjt8pjhuk   42            0                 0              1            0   \n",
       "4  87mebub9p4   41            0                 1              0            0   \n",
       "\n",
       "   gender_OTHER  signup_method_basic  signup_method_facebook  \\\n",
       "2             0                    1                       0   \n",
       "3             0                    0                       1   \n",
       "4             0                    1                       0   \n",
       "\n",
       "   signup_method_google  ...  first_browser_Safari  first_browser_SeaMonkey  \\\n",
       "2                     0  ...                     0                        0   \n",
       "3                     0  ...                     0                        0   \n",
       "4                     0  ...                     0                        0   \n",
       "\n",
       "   first_browser_Silk  first_browser_SiteKiosk  first_browser_SlimBrowser  \\\n",
       "2                   0                        0                          0   \n",
       "3                   0                        0                          0   \n",
       "4                   0                        0                          0   \n",
       "\n",
       "   first_browser_Sogou Explorer  first_browser_Stainless  \\\n",
       "2                             0                        0   \n",
       "3                             0                        0   \n",
       "4                             0                        0   \n",
       "\n",
       "   first_browser_TenFourFox  first_browser_TheWorld Browser  \\\n",
       "2                         0                               0   \n",
       "3                         0                               0   \n",
       "4                         0                               0   \n",
       "\n",
       "   first_browser_Yandex.Browser  \n",
       "2                             0  \n",
       "3                             0  \n",
       "4                             0  \n",
       "\n",
       "[3 rows x 113 columns]"
      ]
     },
     "execution_count": 31,
     "metadata": {},
     "output_type": "execute_result"
    }
   ],
   "source": [
    "x.head(3)"
   ]
  },
  {
   "cell_type": "code",
   "execution_count": 32,
   "metadata": {
    "ExecuteTime": {
     "end_time": "2022-08-25T01:26:33.211372Z",
     "start_time": "2022-08-25T01:26:33.192146Z"
    }
   },
   "outputs": [
    {
     "data": {
      "text/plain": [
       "2       US\n",
       "3    other\n",
       "4       US\n",
       "Name: country_destination, dtype: object"
      ]
     },
     "execution_count": 32,
     "metadata": {},
     "output_type": "execute_result"
    }
   ],
   "source": [
    "y.head(3)"
   ]
  },
  {
   "cell_type": "code",
   "execution_count": 33,
   "metadata": {
    "ExecuteTime": {
     "end_time": "2022-08-25T01:26:33.760439Z",
     "start_time": "2022-08-25T01:26:33.452808Z"
    }
   },
   "outputs": [],
   "source": [
    "# Split dataset into training and test\n",
    "#80% train and 20% test\n",
    "\n",
    "X_train, X_test, y_train, y_test = ms.train_test_split( x, y, test_size=0.2, random_state=32 )"
   ]
  },
  {
   "cell_type": "code",
   "execution_count": 34,
   "metadata": {
    "ExecuteTime": {
     "end_time": "2022-08-25T01:26:33.819253Z",
     "start_time": "2022-08-25T01:26:33.766978Z"
    }
   },
   "outputs": [
    {
     "data": {
      "text/html": [
       "<div>\n",
       "<style scoped>\n",
       "    .dataframe tbody tr th:only-of-type {\n",
       "        vertical-align: middle;\n",
       "    }\n",
       "\n",
       "    .dataframe tbody tr th {\n",
       "        vertical-align: top;\n",
       "    }\n",
       "\n",
       "    .dataframe thead th {\n",
       "        text-align: right;\n",
       "    }\n",
       "</style>\n",
       "<table border=\"1\" class=\"dataframe\">\n",
       "  <thead>\n",
       "    <tr style=\"text-align: right;\">\n",
       "      <th></th>\n",
       "      <th>id</th>\n",
       "      <th>age</th>\n",
       "      <th>signup_flow</th>\n",
       "      <th>gender_-unknown-</th>\n",
       "      <th>gender_FEMALE</th>\n",
       "      <th>gender_MALE</th>\n",
       "      <th>gender_OTHER</th>\n",
       "      <th>signup_method_basic</th>\n",
       "      <th>signup_method_facebook</th>\n",
       "      <th>signup_method_google</th>\n",
       "      <th>...</th>\n",
       "      <th>first_browser_Safari</th>\n",
       "      <th>first_browser_SeaMonkey</th>\n",
       "      <th>first_browser_Silk</th>\n",
       "      <th>first_browser_SiteKiosk</th>\n",
       "      <th>first_browser_SlimBrowser</th>\n",
       "      <th>first_browser_Sogou Explorer</th>\n",
       "      <th>first_browser_Stainless</th>\n",
       "      <th>first_browser_TenFourFox</th>\n",
       "      <th>first_browser_TheWorld Browser</th>\n",
       "      <th>first_browser_Yandex.Browser</th>\n",
       "    </tr>\n",
       "  </thead>\n",
       "  <tbody>\n",
       "    <tr>\n",
       "      <th>22531</th>\n",
       "      <td>b9eperouva</td>\n",
       "      <td>22</td>\n",
       "      <td>0</td>\n",
       "      <td>0</td>\n",
       "      <td>1</td>\n",
       "      <td>0</td>\n",
       "      <td>0</td>\n",
       "      <td>0</td>\n",
       "      <td>1</td>\n",
       "      <td>0</td>\n",
       "      <td>...</td>\n",
       "      <td>0</td>\n",
       "      <td>0</td>\n",
       "      <td>0</td>\n",
       "      <td>0</td>\n",
       "      <td>0</td>\n",
       "      <td>0</td>\n",
       "      <td>0</td>\n",
       "      <td>0</td>\n",
       "      <td>0</td>\n",
       "      <td>0</td>\n",
       "    </tr>\n",
       "    <tr>\n",
       "      <th>139247</th>\n",
       "      <td>6eqkvzq32e</td>\n",
       "      <td>63</td>\n",
       "      <td>0</td>\n",
       "      <td>0</td>\n",
       "      <td>1</td>\n",
       "      <td>0</td>\n",
       "      <td>0</td>\n",
       "      <td>1</td>\n",
       "      <td>0</td>\n",
       "      <td>0</td>\n",
       "      <td>...</td>\n",
       "      <td>1</td>\n",
       "      <td>0</td>\n",
       "      <td>0</td>\n",
       "      <td>0</td>\n",
       "      <td>0</td>\n",
       "      <td>0</td>\n",
       "      <td>0</td>\n",
       "      <td>0</td>\n",
       "      <td>0</td>\n",
       "      <td>0</td>\n",
       "    </tr>\n",
       "    <tr>\n",
       "      <th>170612</th>\n",
       "      <td>8wtjbmxmb3</td>\n",
       "      <td>35</td>\n",
       "      <td>25</td>\n",
       "      <td>0</td>\n",
       "      <td>0</td>\n",
       "      <td>1</td>\n",
       "      <td>0</td>\n",
       "      <td>1</td>\n",
       "      <td>0</td>\n",
       "      <td>0</td>\n",
       "      <td>...</td>\n",
       "      <td>0</td>\n",
       "      <td>0</td>\n",
       "      <td>0</td>\n",
       "      <td>0</td>\n",
       "      <td>0</td>\n",
       "      <td>0</td>\n",
       "      <td>0</td>\n",
       "      <td>0</td>\n",
       "      <td>0</td>\n",
       "      <td>0</td>\n",
       "    </tr>\n",
       "    <tr>\n",
       "      <th>2995</th>\n",
       "      <td>floutkfa37</td>\n",
       "      <td>28</td>\n",
       "      <td>3</td>\n",
       "      <td>1</td>\n",
       "      <td>0</td>\n",
       "      <td>0</td>\n",
       "      <td>0</td>\n",
       "      <td>1</td>\n",
       "      <td>0</td>\n",
       "      <td>0</td>\n",
       "      <td>...</td>\n",
       "      <td>1</td>\n",
       "      <td>0</td>\n",
       "      <td>0</td>\n",
       "      <td>0</td>\n",
       "      <td>0</td>\n",
       "      <td>0</td>\n",
       "      <td>0</td>\n",
       "      <td>0</td>\n",
       "      <td>0</td>\n",
       "      <td>0</td>\n",
       "    </tr>\n",
       "    <tr>\n",
       "      <th>73845</th>\n",
       "      <td>4au7h23zsl</td>\n",
       "      <td>30</td>\n",
       "      <td>0</td>\n",
       "      <td>0</td>\n",
       "      <td>0</td>\n",
       "      <td>1</td>\n",
       "      <td>0</td>\n",
       "      <td>0</td>\n",
       "      <td>1</td>\n",
       "      <td>0</td>\n",
       "      <td>...</td>\n",
       "      <td>0</td>\n",
       "      <td>0</td>\n",
       "      <td>0</td>\n",
       "      <td>0</td>\n",
       "      <td>0</td>\n",
       "      <td>0</td>\n",
       "      <td>0</td>\n",
       "      <td>0</td>\n",
       "      <td>0</td>\n",
       "      <td>0</td>\n",
       "    </tr>\n",
       "  </tbody>\n",
       "</table>\n",
       "<p>5 rows × 113 columns</p>\n",
       "</div>"
      ],
      "text/plain": [
       "                id  age  signup_flow  gender_-unknown-  gender_FEMALE  \\\n",
       "22531   b9eperouva   22            0                 0              1   \n",
       "139247  6eqkvzq32e   63            0                 0              1   \n",
       "170612  8wtjbmxmb3   35           25                 0              0   \n",
       "2995    floutkfa37   28            3                 1              0   \n",
       "73845   4au7h23zsl   30            0                 0              0   \n",
       "\n",
       "        gender_MALE  gender_OTHER  signup_method_basic  \\\n",
       "22531             0             0                    0   \n",
       "139247            0             0                    1   \n",
       "170612            1             0                    1   \n",
       "2995              0             0                    1   \n",
       "73845             1             0                    0   \n",
       "\n",
       "        signup_method_facebook  signup_method_google  ...  \\\n",
       "22531                        1                     0  ...   \n",
       "139247                       0                     0  ...   \n",
       "170612                       0                     0  ...   \n",
       "2995                         0                     0  ...   \n",
       "73845                        1                     0  ...   \n",
       "\n",
       "        first_browser_Safari  first_browser_SeaMonkey  first_browser_Silk  \\\n",
       "22531                      0                        0                   0   \n",
       "139247                     1                        0                   0   \n",
       "170612                     0                        0                   0   \n",
       "2995                       1                        0                   0   \n",
       "73845                      0                        0                   0   \n",
       "\n",
       "        first_browser_SiteKiosk  first_browser_SlimBrowser  \\\n",
       "22531                         0                          0   \n",
       "139247                        0                          0   \n",
       "170612                        0                          0   \n",
       "2995                          0                          0   \n",
       "73845                         0                          0   \n",
       "\n",
       "        first_browser_Sogou Explorer  first_browser_Stainless  \\\n",
       "22531                              0                        0   \n",
       "139247                             0                        0   \n",
       "170612                             0                        0   \n",
       "2995                               0                        0   \n",
       "73845                              0                        0   \n",
       "\n",
       "        first_browser_TenFourFox  first_browser_TheWorld Browser  \\\n",
       "22531                          0                               0   \n",
       "139247                         0                               0   \n",
       "170612                         0                               0   \n",
       "2995                           0                               0   \n",
       "73845                          0                               0   \n",
       "\n",
       "        first_browser_Yandex.Browser  \n",
       "22531                              0  \n",
       "139247                             0  \n",
       "170612                             0  \n",
       "2995                               0  \n",
       "73845                              0  \n",
       "\n",
       "[5 rows x 113 columns]"
      ]
     },
     "execution_count": 34,
     "metadata": {},
     "output_type": "execute_result"
    }
   ],
   "source": [
    "X_train.head()"
   ]
  },
  {
   "cell_type": "code",
   "execution_count": 35,
   "metadata": {
    "ExecuteTime": {
     "end_time": "2022-08-25T01:26:33.957631Z",
     "start_time": "2022-08-25T01:26:33.932552Z"
    }
   },
   "outputs": [],
   "source": [
    "# Drop id to dataset\n",
    "\n",
    "x_train = X_train.drop('id',axis=1)\n",
    "x_test = X_test.drop('id', axis=1)"
   ]
  },
  {
   "cell_type": "code",
   "execution_count": 36,
   "metadata": {
    "ExecuteTime": {
     "end_time": "2022-08-25T01:26:34.341471Z",
     "start_time": "2022-08-25T01:26:34.320510Z"
    }
   },
   "outputs": [
    {
     "data": {
      "text/plain": [
       "(54536, 113)"
      ]
     },
     "execution_count": 36,
     "metadata": {},
     "output_type": "execute_result"
    }
   ],
   "source": [
    "X_train.shape"
   ]
  },
  {
   "cell_type": "code",
   "execution_count": 37,
   "metadata": {
    "ExecuteTime": {
     "end_time": "2022-08-25T01:26:46.365821Z",
     "start_time": "2022-08-25T01:26:46.350390Z"
    }
   },
   "outputs": [
    {
     "data": {
      "text/plain": [
       "(13635, 113)"
      ]
     },
     "execution_count": 37,
     "metadata": {},
     "output_type": "execute_result"
    }
   ],
   "source": [
    "X_test.shape"
   ]
  },
  {
   "cell_type": "code",
   "execution_count": 38,
   "metadata": {
    "ExecuteTime": {
     "end_time": "2022-08-25T01:26:47.676604Z",
     "start_time": "2022-08-25T01:26:47.587894Z"
    }
   },
   "outputs": [],
   "source": [
    "# One hot encoding (categoric variables -> numeric variables)\n",
    "\n",
    "ohe = pp.OneHotEncoder()\n",
    "y_train_nn = ohe.fit_transform( y_train.values.reshape( -1, 1 ) ).toarray()"
   ]
  },
  {
   "cell_type": "code",
   "execution_count": 39,
   "metadata": {
    "ExecuteTime": {
     "end_time": "2022-08-25T01:26:48.772691Z",
     "start_time": "2022-08-25T01:26:48.757066Z"
    }
   },
   "outputs": [
    {
     "data": {
      "text/plain": [
       "array([[0., 0., 0., ..., 0., 1., 0.],\n",
       "       [0., 0., 0., ..., 0., 0., 0.],\n",
       "       [0., 0., 0., ..., 0., 0., 0.],\n",
       "       ...,\n",
       "       [0., 0., 0., ..., 0., 1., 0.],\n",
       "       [0., 0., 0., ..., 0., 0., 0.],\n",
       "       [0., 0., 0., ..., 0., 1., 0.]])"
      ]
     },
     "execution_count": 39,
     "metadata": {},
     "output_type": "execute_result"
    }
   ],
   "source": [
    "y_train_nn"
   ]
  },
  {
   "cell_type": "code",
   "execution_count": 42,
   "metadata": {
    "ExecuteTime": {
     "end_time": "2022-08-25T01:41:24.395382Z",
     "start_time": "2022-08-25T01:27:01.309514Z"
    }
   },
   "outputs": [
    {
     "name": "stderr",
     "output_type": "stream",
     "text": [
      "2022-08-24 22:27:01.348503: W tensorflow/stream_executor/platform/default/dso_loader.cc:64] Could not load dynamic library 'libcuda.so.1'; dlerror: libcuda.so.1: cannot open shared object file: No such file or directory\n",
      "2022-08-24 22:27:01.348542: W tensorflow/stream_executor/cuda/cuda_driver.cc:269] failed call to cuInit: UNKNOWN ERROR (303)\n",
      "2022-08-24 22:27:01.348567: I tensorflow/stream_executor/cuda/cuda_diagnostics.cc:156] kernel driver does not appear to be running on this host (ehgeraldo-VirtualBox): /proc/driver/nvidia/version does not exist\n",
      "2022-08-24 22:27:01.349903: I tensorflow/core/platform/cpu_feature_guard.cc:193] This TensorFlow binary is optimized with oneAPI Deep Neural Network Library (oneDNN) to use the following CPU instructions in performance-critical operations:  AVX2\n",
      "To enable them in other operations, rebuild TensorFlow with the appropriate compiler flags.\n"
     ]
    },
    {
     "name": "stdout",
     "output_type": "stream",
     "text": [
      "Epoch 1/100\n",
      "1705/1705 [==============================] - 8s 4ms/step - loss: 1.3191 - accuracy: 0.7067\n",
      "Epoch 2/100\n",
      "1705/1705 [==============================] - 9s 6ms/step - loss: 1.2725 - accuracy: 0.7076\n",
      "Epoch 3/100\n",
      "1705/1705 [==============================] - 7s 4ms/step - loss: 1.2372 - accuracy: 0.7067\n",
      "Epoch 4/100\n",
      "1705/1705 [==============================] - 8s 5ms/step - loss: 1.2145 - accuracy: 0.7084\n",
      "Epoch 5/100\n",
      "1705/1705 [==============================] - 8s 5ms/step - loss: 1.1862 - accuracy: 0.7085\n",
      "Epoch 6/100\n",
      "1705/1705 [==============================] - 8s 5ms/step - loss: 1.1771 - accuracy: 0.7085\n",
      "Epoch 7/100\n",
      "1705/1705 [==============================] - 9s 5ms/step - loss: 1.1600 - accuracy: 0.7087\n",
      "Epoch 8/100\n",
      "1705/1705 [==============================] - 6s 4ms/step - loss: 1.1474 - accuracy: 0.7087\n",
      "Epoch 9/100\n",
      "1705/1705 [==============================] - 6s 4ms/step - loss: 1.1427 - accuracy: 0.7087\n",
      "Epoch 10/100\n",
      "1705/1705 [==============================] - 9s 6ms/step - loss: 1.1351 - accuracy: 0.7092\n",
      "Epoch 11/100\n",
      "1705/1705 [==============================] - 9s 5ms/step - loss: 1.1340 - accuracy: 0.7093\n",
      "Epoch 12/100\n",
      "1705/1705 [==============================] - 9s 5ms/step - loss: 1.1317 - accuracy: 0.7095\n",
      "Epoch 13/100\n",
      "1705/1705 [==============================] - 9s 5ms/step - loss: 1.1302 - accuracy: 0.7095\n",
      "Epoch 14/100\n",
      "1705/1705 [==============================] - 8s 5ms/step - loss: 1.1288 - accuracy: 0.7095\n",
      "Epoch 15/100\n",
      "1705/1705 [==============================] - 10s 6ms/step - loss: 1.1287 - accuracy: 0.7095\n",
      "Epoch 16/100\n",
      "1705/1705 [==============================] - 9s 6ms/step - loss: 1.1273 - accuracy: 0.7095\n",
      "Epoch 17/100\n",
      "1705/1705 [==============================] - 10s 6ms/step - loss: 1.1268 - accuracy: 0.7096\n",
      "Epoch 18/100\n",
      "1705/1705 [==============================] - 10s 6ms/step - loss: 1.1252 - accuracy: 0.7096\n",
      "Epoch 19/100\n",
      "1705/1705 [==============================] - 9s 5ms/step - loss: 1.1250 - accuracy: 0.7096\n",
      "Epoch 20/100\n",
      "1705/1705 [==============================] - 9s 6ms/step - loss: 1.1240 - accuracy: 0.7098\n",
      "Epoch 21/100\n",
      "1705/1705 [==============================] - 9s 5ms/step - loss: 1.1228 - accuracy: 0.7098\n",
      "Epoch 22/100\n",
      "1705/1705 [==============================] - 10s 6ms/step - loss: 1.1227 - accuracy: 0.7097\n",
      "Epoch 23/100\n",
      "1705/1705 [==============================] - 9s 6ms/step - loss: 1.1218 - accuracy: 0.7098\n",
      "Epoch 24/100\n",
      "1705/1705 [==============================] - 10s 6ms/step - loss: 1.1212 - accuracy: 0.7099\n",
      "Epoch 25/100\n",
      "1705/1705 [==============================] - 7s 4ms/step - loss: 1.1202 - accuracy: 0.7100\n",
      "Epoch 26/100\n",
      "1705/1705 [==============================] - 10s 6ms/step - loss: 1.1193 - accuracy: 0.7099\n",
      "Epoch 27/100\n",
      "1705/1705 [==============================] - 8s 5ms/step - loss: 1.1187 - accuracy: 0.7100\n",
      "Epoch 28/100\n",
      "1705/1705 [==============================] - 9s 5ms/step - loss: 1.1179 - accuracy: 0.7099\n",
      "Epoch 29/100\n",
      "1705/1705 [==============================] - 9s 5ms/step - loss: 1.1178 - accuracy: 0.7100\n",
      "Epoch 30/100\n",
      "1705/1705 [==============================] - 9s 5ms/step - loss: 1.1168 - accuracy: 0.7099\n",
      "Epoch 31/100\n",
      "1705/1705 [==============================] - 9s 5ms/step - loss: 1.1157 - accuracy: 0.7101\n",
      "Epoch 32/100\n",
      "1705/1705 [==============================] - 10s 6ms/step - loss: 1.1155 - accuracy: 0.7102\n",
      "Epoch 33/100\n",
      "1705/1705 [==============================] - 9s 5ms/step - loss: 1.1144 - accuracy: 0.7102\n",
      "Epoch 34/100\n",
      "1705/1705 [==============================] - 9s 5ms/step - loss: 1.1143 - accuracy: 0.7103\n",
      "Epoch 35/100\n",
      "1705/1705 [==============================] - 10s 6ms/step - loss: 1.1140 - accuracy: 0.7103\n",
      "Epoch 36/100\n",
      "1705/1705 [==============================] - 10s 6ms/step - loss: 1.1129 - accuracy: 0.7103\n",
      "Epoch 37/100\n",
      "1705/1705 [==============================] - 10s 6ms/step - loss: 1.1117 - accuracy: 0.7102\n",
      "Epoch 38/100\n",
      "1705/1705 [==============================] - 9s 6ms/step - loss: 1.1113 - accuracy: 0.7104\n",
      "Epoch 39/100\n",
      "1705/1705 [==============================] - 11s 6ms/step - loss: 1.1110 - accuracy: 0.7102\n",
      "Epoch 40/100\n",
      "1705/1705 [==============================] - 10s 6ms/step - loss: 1.1107 - accuracy: 0.7104\n",
      "Epoch 41/100\n",
      "1705/1705 [==============================] - 10s 6ms/step - loss: 1.1102 - accuracy: 0.7105\n",
      "Epoch 42/100\n",
      "1705/1705 [==============================] - 10s 6ms/step - loss: 1.1100 - accuracy: 0.7105\n",
      "Epoch 43/100\n",
      "1705/1705 [==============================] - 10s 6ms/step - loss: 1.1093 - accuracy: 0.7105\n",
      "Epoch 44/100\n",
      "1705/1705 [==============================] - 9s 5ms/step - loss: 1.1081 - accuracy: 0.7107\n",
      "Epoch 45/100\n",
      "1705/1705 [==============================] - 10s 6ms/step - loss: 1.1082 - accuracy: 0.7108\n",
      "Epoch 46/100\n",
      "1705/1705 [==============================] - 10s 6ms/step - loss: 1.1078 - accuracy: 0.7104\n",
      "Epoch 47/100\n",
      "1705/1705 [==============================] - 10s 6ms/step - loss: 1.1075 - accuracy: 0.7106\n",
      "Epoch 48/100\n",
      "1705/1705 [==============================] - 10s 6ms/step - loss: 1.1069 - accuracy: 0.7108\n",
      "Epoch 49/100\n",
      "1705/1705 [==============================] - 10s 6ms/step - loss: 1.1067 - accuracy: 0.7109\n",
      "Epoch 50/100\n",
      "1705/1705 [==============================] - 10s 6ms/step - loss: 1.1059 - accuracy: 0.7109\n",
      "Epoch 51/100\n",
      "1705/1705 [==============================] - 9s 6ms/step - loss: 1.1070 - accuracy: 0.7109\n",
      "Epoch 52/100\n",
      "1705/1705 [==============================] - 10s 6ms/step - loss: 1.1061 - accuracy: 0.7109\n",
      "Epoch 53/100\n",
      "1705/1705 [==============================] - 9s 5ms/step - loss: 1.1045 - accuracy: 0.7110\n",
      "Epoch 54/100\n",
      "1705/1705 [==============================] - 11s 6ms/step - loss: 1.1041 - accuracy: 0.7110\n",
      "Epoch 55/100\n",
      "1705/1705 [==============================] - 11s 6ms/step - loss: 1.1039 - accuracy: 0.7109\n",
      "Epoch 56/100\n",
      "1705/1705 [==============================] - 10s 6ms/step - loss: 1.1043 - accuracy: 0.7112\n",
      "Epoch 57/100\n",
      "1705/1705 [==============================] - 9s 5ms/step - loss: 1.1037 - accuracy: 0.7111\n",
      "Epoch 58/100\n",
      "1705/1705 [==============================] - 9s 5ms/step - loss: 1.1025 - accuracy: 0.7112\n",
      "Epoch 59/100\n",
      "1705/1705 [==============================] - 10s 6ms/step - loss: 1.1026 - accuracy: 0.7112\n",
      "Epoch 60/100\n",
      "1705/1705 [==============================] - 9s 5ms/step - loss: 1.1021 - accuracy: 0.7112\n",
      "Epoch 61/100\n",
      "1705/1705 [==============================] - 9s 5ms/step - loss: 1.1021 - accuracy: 0.7116\n",
      "Epoch 62/100\n",
      "1705/1705 [==============================] - 9s 5ms/step - loss: 1.1020 - accuracy: 0.7112\n",
      "Epoch 63/100\n",
      "1705/1705 [==============================] - 9s 5ms/step - loss: 1.1013 - accuracy: 0.7113\n",
      "Epoch 64/100\n",
      "1705/1705 [==============================] - 10s 6ms/step - loss: 1.1016 - accuracy: 0.7113\n",
      "Epoch 65/100\n",
      "1705/1705 [==============================] - 8s 5ms/step - loss: 1.1012 - accuracy: 0.7113\n",
      "Epoch 66/100\n",
      "1705/1705 [==============================] - 6s 4ms/step - loss: 1.1001 - accuracy: 0.7115\n",
      "Epoch 67/100\n",
      "1705/1705 [==============================] - 7s 4ms/step - loss: 1.1003 - accuracy: 0.7114\n",
      "Epoch 68/100\n",
      "1705/1705 [==============================] - 5s 3ms/step - loss: 1.0997 - accuracy: 0.7116\n",
      "Epoch 69/100\n",
      "1705/1705 [==============================] - 7s 4ms/step - loss: 1.0995 - accuracy: 0.7116\n",
      "Epoch 70/100\n",
      "1705/1705 [==============================] - 6s 3ms/step - loss: 1.0995 - accuracy: 0.7116\n",
      "Epoch 71/100\n",
      "1705/1705 [==============================] - 5s 3ms/step - loss: 1.0990 - accuracy: 0.7114\n",
      "Epoch 72/100\n",
      "1705/1705 [==============================] - 9s 5ms/step - loss: 1.0987 - accuracy: 0.7116\n",
      "Epoch 73/100\n",
      "1705/1705 [==============================] - 9s 5ms/step - loss: 1.0985 - accuracy: 0.7117\n",
      "Epoch 74/100\n",
      "1705/1705 [==============================] - 5s 3ms/step - loss: 1.0980 - accuracy: 0.7118\n",
      "Epoch 75/100\n",
      "1705/1705 [==============================] - 8s 5ms/step - loss: 1.0976 - accuracy: 0.7118\n",
      "Epoch 76/100\n",
      "1705/1705 [==============================] - 10s 6ms/step - loss: 1.0976 - accuracy: 0.7120\n",
      "Epoch 77/100\n",
      "1705/1705 [==============================] - 7s 4ms/step - loss: 1.0982 - accuracy: 0.7121\n",
      "Epoch 78/100\n",
      "1705/1705 [==============================] - 9s 5ms/step - loss: 1.0975 - accuracy: 0.7122\n",
      "Epoch 79/100\n"
     ]
    },
    {
     "name": "stdout",
     "output_type": "stream",
     "text": [
      "1705/1705 [==============================] - 6s 4ms/step - loss: 1.0975 - accuracy: 0.7119\n",
      "Epoch 80/100\n",
      "1705/1705 [==============================] - 9s 5ms/step - loss: 1.0969 - accuracy: 0.7121\n",
      "Epoch 81/100\n",
      "1705/1705 [==============================] - 6s 4ms/step - loss: 1.0970 - accuracy: 0.7120\n",
      "Epoch 82/100\n",
      "1705/1705 [==============================] - 6s 3ms/step - loss: 1.0970 - accuracy: 0.7124\n",
      "Epoch 83/100\n",
      "1705/1705 [==============================] - 6s 4ms/step - loss: 1.0964 - accuracy: 0.7122\n",
      "Epoch 84/100\n",
      "1705/1705 [==============================] - 7s 4ms/step - loss: 1.0961 - accuracy: 0.7123\n",
      "Epoch 85/100\n",
      "1705/1705 [==============================] - 7s 4ms/step - loss: 1.0960 - accuracy: 0.7124\n",
      "Epoch 86/100\n",
      "1705/1705 [==============================] - 6s 4ms/step - loss: 1.0960 - accuracy: 0.7123\n",
      "Epoch 87/100\n",
      "1705/1705 [==============================] - 7s 4ms/step - loss: 1.0952 - accuracy: 0.7124\n",
      "Epoch 88/100\n",
      "1705/1705 [==============================] - 6s 4ms/step - loss: 1.0955 - accuracy: 0.7122\n",
      "Epoch 89/100\n",
      "1705/1705 [==============================] - 7s 4ms/step - loss: 1.0951 - accuracy: 0.7124\n",
      "Epoch 90/100\n",
      "1705/1705 [==============================] - 7s 4ms/step - loss: 1.0950 - accuracy: 0.7125\n",
      "Epoch 91/100\n",
      "1705/1705 [==============================] - 7s 4ms/step - loss: 1.0948 - accuracy: 0.7122\n",
      "Epoch 92/100\n",
      "1705/1705 [==============================] - 7s 4ms/step - loss: 1.0947 - accuracy: 0.7126\n",
      "Epoch 93/100\n",
      "1705/1705 [==============================] - 8s 5ms/step - loss: 1.0950 - accuracy: 0.7125\n",
      "Epoch 94/100\n",
      "1705/1705 [==============================] - 7s 4ms/step - loss: 1.0941 - accuracy: 0.7122\n",
      "Epoch 95/100\n",
      "1705/1705 [==============================] - 8s 5ms/step - loss: 1.0945 - accuracy: 0.7127\n",
      "Epoch 96/100\n",
      "1705/1705 [==============================] - 7s 4ms/step - loss: 1.0936 - accuracy: 0.7130\n",
      "Epoch 97/100\n",
      "1705/1705 [==============================] - 7s 4ms/step - loss: 1.0938 - accuracy: 0.7126\n",
      "Epoch 98/100\n",
      "1705/1705 [==============================] - 7s 4ms/step - loss: 1.0943 - accuracy: 0.7124\n",
      "Epoch 99/100\n",
      "1705/1705 [==============================] - 7s 4ms/step - loss: 1.0936 - accuracy: 0.7129\n",
      "Epoch 100/100\n",
      "1705/1705 [==============================] - 7s 4ms/step - loss: 1.0937 - accuracy: 0.7128\n"
     ]
    },
    {
     "data": {
      "text/plain": [
       "<keras.callbacks.History at 0x7f2f10098820>"
      ]
     },
     "execution_count": 42,
     "metadata": {},
     "output_type": "execute_result"
    }
   ],
   "source": [
    "# model definition\n",
    "model = ml.Sequential()\n",
    "model.add( l.Dense( 128, input_dim= x_train.shape[1], activation='relu' ) )\n",
    "model.add( l.Dense( 11, activation='softmax') )\n",
    "\n",
    "# model compile\n",
    "model.compile( loss='categorical_crossentropy', optimizer='adam', metrics=['accuracy'] )\n",
    "\n",
    "# train model\n",
    "model.fit( x_train, y_train_nn, epochs=100 )"
   ]
  },
  {
   "cell_type": "markdown",
   "metadata": {},
   "source": [
    "## 5.1. NN Performance"
   ]
  },
  {
   "cell_type": "code",
   "execution_count": 44,
   "metadata": {
    "ExecuteTime": {
     "end_time": "2022-08-25T01:54:26.405194Z",
     "start_time": "2022-08-25T01:54:26.383730Z"
    }
   },
   "outputs": [
    {
     "data": {
      "text/plain": [
       "22531        US\n",
       "139247       FR\n",
       "170612       IT\n",
       "2995         US\n",
       "73845        US\n",
       "          ...  \n",
       "165842       US\n",
       "71991     other\n",
       "59064        US\n",
       "187388       IT\n",
       "30096        US\n",
       "Name: country_destination, Length: 54536, dtype: object"
      ]
     },
     "execution_count": 44,
     "metadata": {},
     "output_type": "execute_result"
    }
   ],
   "source": [
    "y_train"
   ]
  },
  {
   "cell_type": "code",
   "execution_count": 45,
   "metadata": {
    "ExecuteTime": {
     "end_time": "2022-08-25T01:54:30.202507Z",
     "start_time": "2022-08-25T01:54:27.254174Z"
    }
   },
   "outputs": [
    {
     "name": "stdout",
     "output_type": "stream",
     "text": [
      "427/427 [==============================] - 2s 3ms/step\n"
     ]
    }
   ],
   "source": [
    "# prediction\n",
    "pred_nn = model.predict( x_test )\n",
    "\n",
    "# invert prediction\n",
    "yhat_nn = ohe.inverse_transform( pred_nn )\n",
    "\n",
    "# prediction prepare\n",
    "y_test_nn = y_test.to_numpy()\n",
    "yhat_nn   = yhat_nn.reshape( 1, -1 )[0]"
   ]
  },
  {
   "cell_type": "code",
   "execution_count": 46,
   "metadata": {
    "ExecuteTime": {
     "end_time": "2022-08-25T01:54:30.229964Z",
     "start_time": "2022-08-25T01:54:30.218485Z"
    }
   },
   "outputs": [
    {
     "data": {
      "text/plain": [
       "array(['US', 'US', 'other', ..., 'US', 'US', 'US'], dtype=object)"
      ]
     },
     "execution_count": 46,
     "metadata": {},
     "output_type": "execute_result"
    }
   ],
   "source": [
    "yhat_nn"
   ]
  },
  {
   "cell_type": "code",
   "execution_count": 47,
   "metadata": {
    "ExecuteTime": {
     "end_time": "2022-08-25T01:54:30.252849Z",
     "start_time": "2022-08-25T01:54:30.239023Z"
    }
   },
   "outputs": [
    {
     "data": {
      "text/plain": [
       "array(['US', 'US', 'US', ..., 'US', 'US', 'US'], dtype=object)"
      ]
     },
     "execution_count": 47,
     "metadata": {},
     "output_type": "execute_result"
    }
   ],
   "source": [
    "y_test_nn"
   ]
  },
  {
   "cell_type": "code",
   "execution_count": 48,
   "metadata": {
    "ExecuteTime": {
     "end_time": "2022-08-25T01:54:30.950874Z",
     "start_time": "2022-08-25T01:54:30.671445Z"
    }
   },
   "outputs": [
    {
     "data": {
      "text/plain": [
       "0.09160544686067232"
      ]
     },
     "execution_count": 48,
     "metadata": {},
     "output_type": "execute_result"
    }
   ],
   "source": [
    "m.balanced_accuracy_score( y_test_nn, yhat_nn )"
   ]
  },
  {
   "cell_type": "code",
   "execution_count": 52,
   "metadata": {
    "ExecuteTime": {
     "end_time": "2022-08-25T01:55:21.269987Z",
     "start_time": "2022-08-25T01:55:18.120908Z"
    }
   },
   "outputs": [
    {
     "name": "stdout",
     "output_type": "stream",
     "text": [
      "Accuracy: 0.7037770443711038\n",
      "Balanced Accuracy:0.09160544686067232\n",
      "Kappa Score:0.0012470863083833272\n"
     ]
    },
    {
     "name": "stderr",
     "output_type": "stream",
     "text": [
      "/home/ehgeraldo/miniconda3/lib/python3.9/site-packages/sklearn/metrics/_classification.py:1248: UndefinedMetricWarning: Precision and F-score are ill-defined and being set to 0.0 in labels with no predicted samples. Use `zero_division` parameter to control this behavior.\n",
      "  _warn_prf(average, modifier, msg_start, len(result))\n",
      "/home/ehgeraldo/miniconda3/lib/python3.9/site-packages/sklearn/metrics/_classification.py:1248: UndefinedMetricWarning: Precision and F-score are ill-defined and being set to 0.0 in labels with no predicted samples. Use `zero_division` parameter to control this behavior.\n",
      "  _warn_prf(average, modifier, msg_start, len(result))\n",
      "/home/ehgeraldo/miniconda3/lib/python3.9/site-packages/sklearn/metrics/_classification.py:1248: UndefinedMetricWarning: Precision and F-score are ill-defined and being set to 0.0 in labels with no predicted samples. Use `zero_division` parameter to control this behavior.\n",
      "  _warn_prf(average, modifier, msg_start, len(result))\n"
     ]
    },
    {
     "name": "stdout",
     "output_type": "stream",
     "text": [
      "              precision    recall  f1-score   support\n",
      "\n",
      "          AU       0.00      0.00      0.00       101\n",
      "          CA       0.00      0.00      0.00       214\n",
      "          DE       0.50      0.01      0.01       170\n",
      "          ES       0.00      0.00      0.00       345\n",
      "          FR       0.29      0.00      0.01       710\n",
      "          GB       0.00      0.00      0.00       344\n",
      "          IT       0.00      0.00      0.00       423\n",
      "          NL       0.00      0.00      0.00       128\n",
      "          PT       0.00      0.00      0.00        36\n",
      "          US       0.71      1.00      0.83      9624\n",
      "       other       0.15      0.00      0.01      1540\n",
      "\n",
      "    accuracy                           0.70     13635\n",
      "   macro avg       0.15      0.09      0.08     13635\n",
      "weighted avg       0.54      0.70      0.58     13635\n",
      "\n"
     ]
    },
    {
     "data": {
      "text/plain": [
       "<AxesSubplot:title={'center':'Confusion Matrix'}, xlabel='Predicted label', ylabel='True label'>"
      ]
     },
     "execution_count": 52,
     "metadata": {},
     "output_type": "execute_result"
    },
    {
     "data": {
      "image/png": "[encoded data removed]",
      "text/plain": [
       "<Figure size 864x864 with 2 Axes>"
      ]
     },
     "metadata": {
      "needs_background": "light"
     },
     "output_type": "display_data"
    }
   ],
   "source": [
    "# Accuracy (right/correct predict)\n",
    "acc_nn = m.accuracy_score( y_test_nn, yhat_nn )\n",
    "print( 'Accuracy: {}'.format( acc_nn ) )\n",
    "\n",
    "\n",
    "# Balanced Accuray\n",
    "balanced_acc_nn = m.balanced_accuracy_score( y_test_nn, yhat_nn )\n",
    "print( 'Balanced Accuracy:{}'.format( balanced_acc_nn) )\n",
    "\n",
    "\n",
    "# Kappa Metrics\n",
    "kappa_nn = m.cohen_kappa_score( y_test_nn, yhat_nn )\n",
    "print( 'Kappa Score:{}'.format( kappa_nn ) )\n",
    "\n",
    "\n",
    "# Classification report\n",
    "print( m.classification_report( y_test_nn, yhat_nn ) )\n",
    "\n",
    "\n",
    "# Confusion Matrix\n",
    "mt.plot_confusion_matrix( y_test_nn, yhat_nn, normalize=False, figsize=(12,12))"
   ]
  },
  {
   "cell_type": "code",
   "execution_count": null,
   "metadata": {},
   "outputs": [],
   "source": []
  },
  {
   "cell_type": "code",
   "execution_count": null,
   "metadata": {},
   "outputs": [],
   "source": []
  },
  {
   "cell_type": "code",
   "execution_count": null,
   "metadata": {},
   "outputs": [],
   "source": []
  },
  {
   "cell_type": "code",
   "execution_count": null,
   "metadata": {},
   "outputs": [],
   "source": []
  },
  {
   "cell_type": "code",
   "execution_count": null,
   "metadata": {},
   "outputs": [],
   "source": []
  }
 ],
 "metadata": {
  "kernelspec": {
   "display_name": "Python 3 (ipykernel)",
   "language": "python",
   "name": "python3"
  },
  "language_info": {
   "codemirror_mode": {
    "name": "ipython",
    "version": 3
   },
   "file_extension": ".py",
   "mimetype": "text/x-python",
   "name": "python",
   "nbconvert_exporter": "python",
   "pygments_lexer": "ipython3",
   "version": "3.9.5"
  },
  "toc": {
   "base_numbering": 1,
   "nav_menu": {},
   "number_sections": true,
   "sideBar": true,
   "skip_h1_title": false,
   "title_cell": "Table of Contents",
   "title_sidebar": "Contents",
   "toc_cell": false,
   "toc_position": {},
   "toc_section_display": true,
   "toc_window_display": false
  }
 },
 "nbformat": 4,
 "nbformat_minor": 4
}
