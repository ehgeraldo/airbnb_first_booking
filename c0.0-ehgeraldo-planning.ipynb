{
 "cells": [
  {
   "cell_type": "markdown",
   "metadata": {},
   "source": [
    "# PA001: Airbnb"
   ]
  },
  {
   "cell_type": "markdown",
   "metadata": {},
   "source": [
    "# Planejamento da solução (IOT)"
   ]
  },
  {
   "cell_type": "markdown",
   "metadata": {
    "heading_collapsed": true
   },
   "source": [
    "# Input - Entrada \n",
    "   "
   ]
  },
  {
   "cell_type": "markdown",
   "metadata": {
    "heading_collapsed": true,
    "hidden": true
   },
   "source": [
    "## O problema de negócio\n",
    "\n",
    " 1. Mapear as previsões de escolha de destino aos usuários de uma plataforma de locação de hospedagem."
   ]
  },
  {
   "cell_type": "markdown",
   "metadata": {
    "heading_collapsed": true
   },
   "source": [
    "# Output - Saída"
   ]
  },
  {
   "cell_type": "markdown",
   "metadata": {
    "hidden": true
   },
   "source": [
    "## Modelo de Previsão para escolha do primeiro destino do usuário.\n",
    "\n",
    "\n",
    "   1.0. Predições serão salvas em uma tabela do banco de dados.\n",
    "\n",
    "   2.0. API\n",
    "\n",
    "   Input: usuários e suas características;\n",
    "\n",
    "   Output: usuários e suas características com a predição do destino;"
   ]
  },
  {
   "cell_type": "markdown",
   "metadata": {
    "heading_collapsed": true
   },
   "source": [
    "# Tasks - Processo"
   ]
  },
  {
   "cell_type": "markdown",
   "metadata": {
    "ExecuteTime": {
     "end_time": "2022-08-06T02:05:32.103047Z",
     "start_time": "2022-08-06T02:05:32.088880Z"
    },
    "hidden": true
   },
   "source": [
    " * New York City Airbnb Open Data:\n",
    " * https://www.kaggle.com/datasets/dgomonov/new-york-city-airbnb-open-data/code\n",
    " * Airbnb listings and metrics in NYC, NY, USA (2019)\n",
    "    \n",
    "\n",
    "*- Compreensão do modelo de negócio do Airbnb*\n",
    "   - Marketplace ( Conectar pessoas que oferecem acomodação, com pessoas que estão procurando acomodação).\n",
    " \n",
    "    \n",
    "*- Usuários oferecem acomodações*\n",
    "   - Tamanho do portfólio.\n",
    "   - Diversidade/Densidade de Portfólio.\n",
    "   - Preço Médio\n",
    "\n",
    "*- Alta demanda* (usuário que não desejam hotel).\n",
    "   - Número de Usuários\n",
    "   - LTV ( Lifetime Value )\n",
    "   - CAC ( Client Acquisition Cost )\n",
    "   - Gross Revenue = ( Fee*Número cliente ) - CAC "
   ]
  },
  {
   "cell_type": "markdown",
   "metadata": {},
   "source": [
    "# Imports"
   ]
  },
  {
   "cell_type": "code",
   "execution_count": 77,
   "metadata": {
    "ExecuteTime": {
     "end_time": "2022-08-12T23:15:39.460993Z",
     "start_time": "2022-08-12T23:15:39.450032Z"
    }
   },
   "outputs": [],
   "source": [
    "import pandas as pd\n",
    "from sklearn import model_selection as ms\n",
    "from sklearn import preprocessing  as pp\n",
    "from sklearn import metrics         as m\n",
    "from scikitplot import metrics      as mt\n",
    "\n",
    "from keras import models as ml\n",
    "from keras import layers as l"
   ]
  },
  {
   "cell_type": "markdown",
   "metadata": {
    "heading_collapsed": true
   },
   "source": [
    "## Helper Functions"
   ]
  },
  {
   "cell_type": "markdown",
   "metadata": {},
   "source": [
    "## Loading Data"
   ]
  },
  {
   "cell_type": "code",
   "execution_count": 42,
   "metadata": {
    "ExecuteTime": {
     "end_time": "2022-08-12T22:50:02.089402Z",
     "start_time": "2022-08-12T22:50:02.074796Z"
    }
   },
   "outputs": [
    {
     "data": {
      "text/plain": [
       "'/home/ehgeraldo/repos/Airbnb/airbnb_first_booking'"
      ]
     },
     "execution_count": 42,
     "metadata": {},
     "output_type": "execute_result"
    }
   ],
   "source": [
    "pwd"
   ]
  },
  {
   "cell_type": "code",
   "execution_count": 43,
   "metadata": {
    "ExecuteTime": {
     "end_time": "2022-08-12T22:50:04.094837Z",
     "start_time": "2022-08-12T22:50:03.165496Z"
    }
   },
   "outputs": [],
   "source": [
    "# load data\n",
    "df_raw = pd.read_csv('/home/ehgeraldo/repos/Airbnb/airbnb_first_booking/data/train_users_2.csv')"
   ]
  },
  {
   "cell_type": "markdown",
   "metadata": {
    "ExecuteTime": {
     "end_time": "2022-08-07T23:18:52.741663Z",
     "start_time": "2022-08-07T23:18:52.734641Z"
    }
   },
   "source": [
    "# Data Description"
   ]
  },
  {
   "cell_type": "code",
   "execution_count": 44,
   "metadata": {
    "ExecuteTime": {
     "end_time": "2022-08-12T22:50:04.644023Z",
     "start_time": "2022-08-12T22:50:04.584582Z"
    }
   },
   "outputs": [],
   "source": [
    "df1 = df_raw.copy()"
   ]
  },
  {
   "cell_type": "markdown",
   "metadata": {},
   "source": [
    "### Data dimensions"
   ]
  },
  {
   "cell_type": "code",
   "execution_count": 45,
   "metadata": {
    "ExecuteTime": {
     "end_time": "2022-08-12T22:50:05.685277Z",
     "start_time": "2022-08-12T22:50:05.673882Z"
    }
   },
   "outputs": [
    {
     "name": "stdout",
     "output_type": "stream",
     "text": [
      "Number of rows:    213451\n",
      "Number of columns: 16\n"
     ]
    }
   ],
   "source": [
    "print( 'Number of rows:    {}'.format( df_raw.shape[0] ) )\n",
    "print( 'Number of columns: {}'.format( df_raw.shape[1] ) )"
   ]
  },
  {
   "cell_type": "markdown",
   "metadata": {},
   "source": [
    "### Data types"
   ]
  },
  {
   "cell_type": "code",
   "execution_count": 46,
   "metadata": {
    "ExecuteTime": {
     "end_time": "2022-08-12T22:50:07.305680Z",
     "start_time": "2022-08-12T22:50:07.279215Z"
    }
   },
   "outputs": [
    {
     "data": {
      "text/plain": [
       "id                          object\n",
       "date_account_created        object\n",
       "timestamp_first_active       int64\n",
       "date_first_booking          object\n",
       "gender                      object\n",
       "age                        float64\n",
       "signup_method               object\n",
       "signup_flow                  int64\n",
       "language                    object\n",
       "affiliate_channel           object\n",
       "affiliate_provider          object\n",
       "first_affiliate_tracked     object\n",
       "signup_app                  object\n",
       "first_device_type           object\n",
       "first_browser               object\n",
       "country_destination         object\n",
       "dtype: object"
      ]
     },
     "execution_count": 46,
     "metadata": {},
     "output_type": "execute_result"
    }
   ],
   "source": [
    "df1.dtypes"
   ]
  },
  {
   "cell_type": "markdown",
   "metadata": {},
   "source": [
    "### Check NAs"
   ]
  },
  {
   "cell_type": "code",
   "execution_count": 47,
   "metadata": {
    "ExecuteTime": {
     "end_time": "2022-08-12T22:50:08.889173Z",
     "start_time": "2022-08-12T22:50:08.094380Z"
    }
   },
   "outputs": [
    {
     "data": {
      "text/plain": [
       "id                              0\n",
       "date_account_created            0\n",
       "timestamp_first_active          0\n",
       "date_first_booking         124543\n",
       "gender                          0\n",
       "age                         87990\n",
       "signup_method                   0\n",
       "signup_flow                     0\n",
       "language                        0\n",
       "affiliate_channel               0\n",
       "affiliate_provider              0\n",
       "first_affiliate_tracked      6065\n",
       "signup_app                      0\n",
       "first_device_type               0\n",
       "first_browser                   0\n",
       "country_destination             0\n",
       "dtype: int64"
      ]
     },
     "execution_count": 47,
     "metadata": {},
     "output_type": "execute_result"
    }
   ],
   "source": [
    "df1.isna().sum()"
   ]
  },
  {
   "cell_type": "markdown",
   "metadata": {},
   "source": [
    "### Replace NAs"
   ]
  },
  {
   "cell_type": "code",
   "execution_count": 48,
   "metadata": {
    "ExecuteTime": {
     "end_time": "2022-08-12T22:50:09.822276Z",
     "start_time": "2022-08-12T22:50:08.896965Z"
    }
   },
   "outputs": [
    {
     "data": {
      "text/plain": [
       "(68171, 16)"
      ]
     },
     "execution_count": 48,
     "metadata": {},
     "output_type": "execute_result"
    }
   ],
   "source": [
    "df1 = df1.dropna()\n",
    "df1.shape"
   ]
  },
  {
   "cell_type": "code",
   "execution_count": 49,
   "metadata": {
    "ExecuteTime": {
     "end_time": "2022-08-12T22:50:09.846316Z",
     "start_time": "2022-08-12T22:50:09.833591Z"
    }
   },
   "outputs": [
    {
     "name": "stdout",
     "output_type": "stream",
     "text": [
      "Removed data: 0.68%\n"
     ]
    }
   ],
   "source": [
    "print('Removed data: {:.2f}%'.format( 1-(df1.shape[0] / df_raw.shape[0] ) ) )"
   ]
  },
  {
   "cell_type": "code",
   "execution_count": 50,
   "metadata": {
    "ExecuteTime": {
     "end_time": "2022-08-12T22:50:10.149807Z",
     "start_time": "2022-08-12T22:50:09.853552Z"
    }
   },
   "outputs": [
    {
     "data": {
      "text/plain": [
       "id                         0\n",
       "date_account_created       0\n",
       "timestamp_first_active     0\n",
       "date_first_booking         0\n",
       "gender                     0\n",
       "age                        0\n",
       "signup_method              0\n",
       "signup_flow                0\n",
       "language                   0\n",
       "affiliate_channel          0\n",
       "affiliate_provider         0\n",
       "first_affiliate_tracked    0\n",
       "signup_app                 0\n",
       "first_device_type          0\n",
       "first_browser              0\n",
       "country_destination        0\n",
       "dtype: int64"
      ]
     },
     "execution_count": 50,
     "metadata": {},
     "output_type": "execute_result"
    }
   ],
   "source": [
    "df1.isna().sum()"
   ]
  },
  {
   "cell_type": "code",
   "execution_count": 51,
   "metadata": {
    "ExecuteTime": {
     "end_time": "2022-08-12T22:50:11.668862Z",
     "start_time": "2022-08-12T22:50:10.159447Z"
    }
   },
   "outputs": [],
   "source": [
    "# date_account_created : (object -> datetime)\n",
    "df1['date_account_created'] = pd.to_datetime( df1['date_account_created'] )\n",
    "\n",
    "# timestamp_first_active : (int64 -> datetime)\n",
    "df1['timestamp_first_active'] = pd.to_datetime( df1['timestamp_first_active'], format='%Y%m%d%H%M%S' )\n",
    "\n",
    "# date_first_booking : (object -> datetime)\n",
    "df1['date_first_booking'] = pd.to_datetime( df1['date_first_booking'] )\n",
    "\n",
    "# age : (float64 -> int64)\n",
    "df1['age'] = df1['age'].astype( int )"
   ]
  },
  {
   "cell_type": "code",
   "execution_count": 52,
   "metadata": {
    "ExecuteTime": {
     "end_time": "2022-08-12T22:50:11.693815Z",
     "start_time": "2022-08-12T22:50:11.671099Z"
    }
   },
   "outputs": [
    {
     "data": {
      "text/plain": [
       "id                                 object\n",
       "date_account_created       datetime64[ns]\n",
       "timestamp_first_active     datetime64[ns]\n",
       "date_first_booking         datetime64[ns]\n",
       "gender                             object\n",
       "age                                 int64\n",
       "signup_method                      object\n",
       "signup_flow                         int64\n",
       "language                           object\n",
       "affiliate_channel                  object\n",
       "affiliate_provider                 object\n",
       "first_affiliate_tracked            object\n",
       "signup_app                         object\n",
       "first_device_type                  object\n",
       "first_browser                      object\n",
       "country_destination                object\n",
       "dtype: object"
      ]
     },
     "execution_count": 52,
     "metadata": {},
     "output_type": "execute_result"
    }
   ],
   "source": [
    "df1.dtypes"
   ]
  },
  {
   "cell_type": "code",
   "execution_count": 53,
   "metadata": {
    "ExecuteTime": {
     "end_time": "2022-08-12T22:50:11.750763Z",
     "start_time": "2022-08-12T22:50:11.698274Z"
    }
   },
   "outputs": [
    {
     "data": {
      "text/html": [
       "<div>\n",
       "<style scoped>\n",
       "    .dataframe tbody tr th:only-of-type {\n",
       "        vertical-align: middle;\n",
       "    }\n",
       "\n",
       "    .dataframe tbody tr th {\n",
       "        vertical-align: top;\n",
       "    }\n",
       "\n",
       "    .dataframe thead th {\n",
       "        text-align: right;\n",
       "    }\n",
       "</style>\n",
       "<table border=\"1\" class=\"dataframe\">\n",
       "  <thead>\n",
       "    <tr style=\"text-align: right;\">\n",
       "      <th></th>\n",
       "      <th>24951</th>\n",
       "    </tr>\n",
       "  </thead>\n",
       "  <tbody>\n",
       "    <tr>\n",
       "      <th>id</th>\n",
       "      <td>hf8yzp7sfa</td>\n",
       "    </tr>\n",
       "    <tr>\n",
       "      <th>date_account_created</th>\n",
       "      <td>2012-05-22 00:00:00</td>\n",
       "    </tr>\n",
       "    <tr>\n",
       "      <th>timestamp_first_active</th>\n",
       "      <td>2012-05-22 00:37:29</td>\n",
       "    </tr>\n",
       "    <tr>\n",
       "      <th>date_first_booking</th>\n",
       "      <td>2012-05-22 00:00:00</td>\n",
       "    </tr>\n",
       "    <tr>\n",
       "      <th>gender</th>\n",
       "      <td>FEMALE</td>\n",
       "    </tr>\n",
       "    <tr>\n",
       "      <th>age</th>\n",
       "      <td>34</td>\n",
       "    </tr>\n",
       "    <tr>\n",
       "      <th>signup_method</th>\n",
       "      <td>basic</td>\n",
       "    </tr>\n",
       "    <tr>\n",
       "      <th>signup_flow</th>\n",
       "      <td>3</td>\n",
       "    </tr>\n",
       "    <tr>\n",
       "      <th>language</th>\n",
       "      <td>en</td>\n",
       "    </tr>\n",
       "    <tr>\n",
       "      <th>affiliate_channel</th>\n",
       "      <td>seo</td>\n",
       "    </tr>\n",
       "    <tr>\n",
       "      <th>affiliate_provider</th>\n",
       "      <td>google</td>\n",
       "    </tr>\n",
       "    <tr>\n",
       "      <th>first_affiliate_tracked</th>\n",
       "      <td>linked</td>\n",
       "    </tr>\n",
       "    <tr>\n",
       "      <th>signup_app</th>\n",
       "      <td>Web</td>\n",
       "    </tr>\n",
       "    <tr>\n",
       "      <th>first_device_type</th>\n",
       "      <td>Mac Desktop</td>\n",
       "    </tr>\n",
       "    <tr>\n",
       "      <th>first_browser</th>\n",
       "      <td>Safari</td>\n",
       "    </tr>\n",
       "    <tr>\n",
       "      <th>country_destination</th>\n",
       "      <td>US</td>\n",
       "    </tr>\n",
       "  </tbody>\n",
       "</table>\n",
       "</div>"
      ],
      "text/plain": [
       "                                       24951\n",
       "id                                hf8yzp7sfa\n",
       "date_account_created     2012-05-22 00:00:00\n",
       "timestamp_first_active   2012-05-22 00:37:29\n",
       "date_first_booking       2012-05-22 00:00:00\n",
       "gender                                FEMALE\n",
       "age                                       34\n",
       "signup_method                          basic\n",
       "signup_flow                                3\n",
       "language                                  en\n",
       "affiliate_channel                        seo\n",
       "affiliate_provider                    google\n",
       "first_affiliate_tracked               linked\n",
       "signup_app                               Web\n",
       "first_device_type                Mac Desktop\n",
       "first_browser                         Safari\n",
       "country_destination                       US"
      ]
     },
     "execution_count": 53,
     "metadata": {},
     "output_type": "execute_result"
    }
   ],
   "source": [
    "df1.sample().T"
   ]
  },
  {
   "cell_type": "markdown",
   "metadata": {},
   "source": [
    "## 1.4. Check Balanced Data"
   ]
  },
  {
   "cell_type": "code",
   "execution_count": 54,
   "metadata": {
    "ExecuteTime": {
     "end_time": "2022-08-12T22:50:11.838027Z",
     "start_time": "2022-08-12T22:50:11.778867Z"
    }
   },
   "outputs": [
    {
     "data": {
      "text/plain": [
       "US       0.708864\n",
       "other    0.110854\n",
       "FR       0.054085\n",
       "IT       0.029763\n",
       "GB       0.025935\n",
       "ES       0.024864\n",
       "CA       0.015696\n",
       "DE       0.012454\n",
       "NL       0.008801\n",
       "AU       0.006366\n",
       "PT       0.002318\n",
       "Name: country_destination, dtype: float64"
      ]
     },
     "execution_count": 54,
     "metadata": {},
     "output_type": "execute_result"
    }
   ],
   "source": [
    "df1['country_destination'].value_counts( normalize=True )"
   ]
  },
  {
   "cell_type": "markdown",
   "metadata": {},
   "source": [
    "# 2.0. Data Filtering"
   ]
  },
  {
   "cell_type": "code",
   "execution_count": 55,
   "metadata": {
    "ExecuteTime": {
     "end_time": "2022-08-12T22:50:13.490929Z",
     "start_time": "2022-08-12T22:50:13.458371Z"
    }
   },
   "outputs": [],
   "source": [
    "df2 = df1.copy()"
   ]
  },
  {
   "cell_type": "markdown",
   "metadata": {},
   "source": [
    "## 2.1. Filtering Rows"
   ]
  },
  {
   "cell_type": "markdown",
   "metadata": {},
   "source": [
    "## 2.2. Columns Selection"
   ]
  },
  {
   "cell_type": "markdown",
   "metadata": {},
   "source": [
    "# 3.0. Data Preparation"
   ]
  },
  {
   "cell_type": "code",
   "execution_count": 64,
   "metadata": {
    "ExecuteTime": {
     "end_time": "2022-08-12T22:56:51.786925Z",
     "start_time": "2022-08-12T22:56:51.759199Z"
    }
   },
   "outputs": [],
   "source": [
    "df3 = df2.copy()"
   ]
  },
  {
   "cell_type": "code",
   "execution_count": 65,
   "metadata": {
    "ExecuteTime": {
     "end_time": "2022-08-12T22:56:52.757750Z",
     "start_time": "2022-08-12T22:56:52.742731Z"
    }
   },
   "outputs": [
    {
     "data": {
      "text/plain": [
       "(68171, 16)"
      ]
     },
     "execution_count": 65,
     "metadata": {},
     "output_type": "execute_result"
    }
   ],
   "source": [
    "df3.shape"
   ]
  },
  {
   "cell_type": "code",
   "execution_count": 58,
   "metadata": {
    "ExecuteTime": {
     "end_time": "2022-08-12T22:50:17.517750Z",
     "start_time": "2022-08-12T22:50:17.155787Z"
    }
   },
   "outputs": [],
   "source": [
    "# dummy variable\n",
    "df3_dummy = pd.get_dummies( df3.drop( ['id', 'country_destination'], axis=1 ) )\n",
    "\n",
    "# join id and country destination\n",
    "df3 = pd.concat( [df3[['id','country_destination']], df3_dummy], axis=1 )"
   ]
  },
  {
   "cell_type": "code",
   "execution_count": 59,
   "metadata": {
    "ExecuteTime": {
     "end_time": "2022-08-12T22:50:18.450115Z",
     "start_time": "2022-08-12T22:50:18.432697Z"
    }
   },
   "outputs": [
    {
     "data": {
      "text/plain": [
       "(68171, 117)"
      ]
     },
     "execution_count": 59,
     "metadata": {},
     "output_type": "execute_result"
    }
   ],
   "source": [
    "df3.shape"
   ]
  },
  {
   "cell_type": "markdown",
   "metadata": {},
   "source": [
    "# 4.0. Feature Selection"
   ]
  },
  {
   "cell_type": "code",
   "execution_count": 66,
   "metadata": {
    "ExecuteTime": {
     "end_time": "2022-08-12T22:57:11.479067Z",
     "start_time": "2022-08-12T22:57:11.453818Z"
    }
   },
   "outputs": [],
   "source": [
    "# Remove columns irelevants to training models \n",
    "cols_drop = ['date_account_created', 'timestamp_first_active', 'date_first_booking'] # original dates\n",
    "df4 = df3.drop( cols_drop, axis=1 )"
   ]
  },
  {
   "cell_type": "code",
   "execution_count": 67,
   "metadata": {
    "ExecuteTime": {
     "end_time": "2022-08-12T22:57:12.953601Z",
     "start_time": "2022-08-12T22:57:12.922843Z"
    }
   },
   "outputs": [
    {
     "data": {
      "text/html": [
       "<div>\n",
       "<style scoped>\n",
       "    .dataframe tbody tr th:only-of-type {\n",
       "        vertical-align: middle;\n",
       "    }\n",
       "\n",
       "    .dataframe tbody tr th {\n",
       "        vertical-align: top;\n",
       "    }\n",
       "\n",
       "    .dataframe thead th {\n",
       "        text-align: right;\n",
       "    }\n",
       "</style>\n",
       "<table border=\"1\" class=\"dataframe\">\n",
       "  <thead>\n",
       "    <tr style=\"text-align: right;\">\n",
       "      <th></th>\n",
       "      <th>96389</th>\n",
       "    </tr>\n",
       "  </thead>\n",
       "  <tbody>\n",
       "    <tr>\n",
       "      <th>id</th>\n",
       "      <td>2e446nbt8y</td>\n",
       "    </tr>\n",
       "    <tr>\n",
       "      <th>gender</th>\n",
       "      <td>-unknown-</td>\n",
       "    </tr>\n",
       "    <tr>\n",
       "      <th>age</th>\n",
       "      <td>31</td>\n",
       "    </tr>\n",
       "    <tr>\n",
       "      <th>signup_method</th>\n",
       "      <td>basic</td>\n",
       "    </tr>\n",
       "    <tr>\n",
       "      <th>signup_flow</th>\n",
       "      <td>0</td>\n",
       "    </tr>\n",
       "    <tr>\n",
       "      <th>language</th>\n",
       "      <td>en</td>\n",
       "    </tr>\n",
       "    <tr>\n",
       "      <th>affiliate_channel</th>\n",
       "      <td>direct</td>\n",
       "    </tr>\n",
       "    <tr>\n",
       "      <th>affiliate_provider</th>\n",
       "      <td>direct</td>\n",
       "    </tr>\n",
       "    <tr>\n",
       "      <th>first_affiliate_tracked</th>\n",
       "      <td>linked</td>\n",
       "    </tr>\n",
       "    <tr>\n",
       "      <th>signup_app</th>\n",
       "      <td>Web</td>\n",
       "    </tr>\n",
       "    <tr>\n",
       "      <th>first_device_type</th>\n",
       "      <td>Windows Desktop</td>\n",
       "    </tr>\n",
       "    <tr>\n",
       "      <th>first_browser</th>\n",
       "      <td>Firefox</td>\n",
       "    </tr>\n",
       "    <tr>\n",
       "      <th>country_destination</th>\n",
       "      <td>US</td>\n",
       "    </tr>\n",
       "  </tbody>\n",
       "</table>\n",
       "</div>"
      ],
      "text/plain": [
       "                                   96389\n",
       "id                            2e446nbt8y\n",
       "gender                         -unknown-\n",
       "age                                   31\n",
       "signup_method                      basic\n",
       "signup_flow                            0\n",
       "language                              en\n",
       "affiliate_channel                 direct\n",
       "affiliate_provider                direct\n",
       "first_affiliate_tracked           linked\n",
       "signup_app                           Web\n",
       "first_device_type        Windows Desktop\n",
       "first_browser                    Firefox\n",
       "country_destination                   US"
      ]
     },
     "execution_count": 67,
     "metadata": {},
     "output_type": "execute_result"
    }
   ],
   "source": [
    "df4.sample().T"
   ]
  },
  {
   "cell_type": "markdown",
   "metadata": {},
   "source": [
    "# 5.0. Machine Learning Model  - Neural Network MLP"
   ]
  },
  {
   "cell_type": "code",
   "execution_count": 68,
   "metadata": {
    "ExecuteTime": {
     "end_time": "2022-08-12T22:57:16.543341Z",
     "start_time": "2022-08-12T22:57:16.513424Z"
    }
   },
   "outputs": [],
   "source": [
    "# Select data to train and test or \"train, validation, test\"\n",
    "\n",
    "# On X_train drop to 'country_destination' response variable \n",
    "x = df4.drop( 'country_destination', axis=1 )\n",
    "\n",
    "# On y_train include 'country_destination'\n",
    "y = df4['country_destination'].copy()"
   ]
  },
  {
   "cell_type": "code",
   "execution_count": 69,
   "metadata": {
    "ExecuteTime": {
     "end_time": "2022-08-12T22:57:20.432100Z",
     "start_time": "2022-08-12T22:57:20.386564Z"
    }
   },
   "outputs": [
    {
     "data": {
      "text/html": [
       "<div>\n",
       "<style scoped>\n",
       "    .dataframe tbody tr th:only-of-type {\n",
       "        vertical-align: middle;\n",
       "    }\n",
       "\n",
       "    .dataframe tbody tr th {\n",
       "        vertical-align: top;\n",
       "    }\n",
       "\n",
       "    .dataframe thead th {\n",
       "        text-align: right;\n",
       "    }\n",
       "</style>\n",
       "<table border=\"1\" class=\"dataframe\">\n",
       "  <thead>\n",
       "    <tr style=\"text-align: right;\">\n",
       "      <th></th>\n",
       "      <th>id</th>\n",
       "      <th>gender</th>\n",
       "      <th>age</th>\n",
       "      <th>signup_method</th>\n",
       "      <th>signup_flow</th>\n",
       "      <th>language</th>\n",
       "      <th>affiliate_channel</th>\n",
       "      <th>affiliate_provider</th>\n",
       "      <th>first_affiliate_tracked</th>\n",
       "      <th>signup_app</th>\n",
       "      <th>first_device_type</th>\n",
       "      <th>first_browser</th>\n",
       "    </tr>\n",
       "  </thead>\n",
       "  <tbody>\n",
       "    <tr>\n",
       "      <th>2</th>\n",
       "      <td>4ft3gnwmtx</td>\n",
       "      <td>FEMALE</td>\n",
       "      <td>56</td>\n",
       "      <td>basic</td>\n",
       "      <td>3</td>\n",
       "      <td>en</td>\n",
       "      <td>direct</td>\n",
       "      <td>direct</td>\n",
       "      <td>untracked</td>\n",
       "      <td>Web</td>\n",
       "      <td>Windows Desktop</td>\n",
       "      <td>IE</td>\n",
       "    </tr>\n",
       "    <tr>\n",
       "      <th>3</th>\n",
       "      <td>bjjt8pjhuk</td>\n",
       "      <td>FEMALE</td>\n",
       "      <td>42</td>\n",
       "      <td>facebook</td>\n",
       "      <td>0</td>\n",
       "      <td>en</td>\n",
       "      <td>direct</td>\n",
       "      <td>direct</td>\n",
       "      <td>untracked</td>\n",
       "      <td>Web</td>\n",
       "      <td>Mac Desktop</td>\n",
       "      <td>Firefox</td>\n",
       "    </tr>\n",
       "    <tr>\n",
       "      <th>4</th>\n",
       "      <td>87mebub9p4</td>\n",
       "      <td>-unknown-</td>\n",
       "      <td>41</td>\n",
       "      <td>basic</td>\n",
       "      <td>0</td>\n",
       "      <td>en</td>\n",
       "      <td>direct</td>\n",
       "      <td>direct</td>\n",
       "      <td>untracked</td>\n",
       "      <td>Web</td>\n",
       "      <td>Mac Desktop</td>\n",
       "      <td>Chrome</td>\n",
       "    </tr>\n",
       "  </tbody>\n",
       "</table>\n",
       "</div>"
      ],
      "text/plain": [
       "           id     gender  age signup_method  signup_flow language  \\\n",
       "2  4ft3gnwmtx     FEMALE   56         basic            3       en   \n",
       "3  bjjt8pjhuk     FEMALE   42      facebook            0       en   \n",
       "4  87mebub9p4  -unknown-   41         basic            0       en   \n",
       "\n",
       "  affiliate_channel affiliate_provider first_affiliate_tracked signup_app  \\\n",
       "2            direct             direct               untracked        Web   \n",
       "3            direct             direct               untracked        Web   \n",
       "4            direct             direct               untracked        Web   \n",
       "\n",
       "  first_device_type first_browser  \n",
       "2   Windows Desktop            IE  \n",
       "3       Mac Desktop       Firefox  \n",
       "4       Mac Desktop        Chrome  "
      ]
     },
     "execution_count": 69,
     "metadata": {},
     "output_type": "execute_result"
    }
   ],
   "source": [
    "x.head(3)"
   ]
  },
  {
   "cell_type": "code",
   "execution_count": 70,
   "metadata": {
    "ExecuteTime": {
     "end_time": "2022-08-12T22:57:22.357092Z",
     "start_time": "2022-08-12T22:57:22.337039Z"
    }
   },
   "outputs": [
    {
     "data": {
      "text/plain": [
       "2       US\n",
       "3    other\n",
       "4       US\n",
       "Name: country_destination, dtype: object"
      ]
     },
     "execution_count": 70,
     "metadata": {},
     "output_type": "execute_result"
    }
   ],
   "source": [
    "y.head(3)"
   ]
  },
  {
   "cell_type": "code",
   "execution_count": 71,
   "metadata": {
    "ExecuteTime": {
     "end_time": "2022-08-12T23:03:02.838889Z",
     "start_time": "2022-08-12T23:03:02.779479Z"
    }
   },
   "outputs": [],
   "source": [
    "# Split dataset into training and test\n",
    "#80% train and 20% test\n",
    "\n",
    "X_train, X_test, y_train, y_test = ms.train_test_split( x, y, test_size=0.2, random_state=32 )"
   ]
  },
  {
   "cell_type": "code",
   "execution_count": 72,
   "metadata": {
    "ExecuteTime": {
     "end_time": "2022-08-12T23:03:03.880060Z",
     "start_time": "2022-08-12T23:03:03.835500Z"
    }
   },
   "outputs": [
    {
     "data": {
      "text/html": [
       "<div>\n",
       "<style scoped>\n",
       "    .dataframe tbody tr th:only-of-type {\n",
       "        vertical-align: middle;\n",
       "    }\n",
       "\n",
       "    .dataframe tbody tr th {\n",
       "        vertical-align: top;\n",
       "    }\n",
       "\n",
       "    .dataframe thead th {\n",
       "        text-align: right;\n",
       "    }\n",
       "</style>\n",
       "<table border=\"1\" class=\"dataframe\">\n",
       "  <thead>\n",
       "    <tr style=\"text-align: right;\">\n",
       "      <th></th>\n",
       "      <th>id</th>\n",
       "      <th>gender</th>\n",
       "      <th>age</th>\n",
       "      <th>signup_method</th>\n",
       "      <th>signup_flow</th>\n",
       "      <th>language</th>\n",
       "      <th>affiliate_channel</th>\n",
       "      <th>affiliate_provider</th>\n",
       "      <th>first_affiliate_tracked</th>\n",
       "      <th>signup_app</th>\n",
       "      <th>first_device_type</th>\n",
       "      <th>first_browser</th>\n",
       "    </tr>\n",
       "  </thead>\n",
       "  <tbody>\n",
       "    <tr>\n",
       "      <th>22531</th>\n",
       "      <td>b9eperouva</td>\n",
       "      <td>FEMALE</td>\n",
       "      <td>22</td>\n",
       "      <td>facebook</td>\n",
       "      <td>0</td>\n",
       "      <td>en</td>\n",
       "      <td>sem-non-brand</td>\n",
       "      <td>bing</td>\n",
       "      <td>omg</td>\n",
       "      <td>Web</td>\n",
       "      <td>Windows Desktop</td>\n",
       "      <td>IE</td>\n",
       "    </tr>\n",
       "    <tr>\n",
       "      <th>139247</th>\n",
       "      <td>6eqkvzq32e</td>\n",
       "      <td>FEMALE</td>\n",
       "      <td>63</td>\n",
       "      <td>basic</td>\n",
       "      <td>0</td>\n",
       "      <td>en</td>\n",
       "      <td>sem-brand</td>\n",
       "      <td>google</td>\n",
       "      <td>untracked</td>\n",
       "      <td>Web</td>\n",
       "      <td>Mac Desktop</td>\n",
       "      <td>Safari</td>\n",
       "    </tr>\n",
       "    <tr>\n",
       "      <th>170612</th>\n",
       "      <td>8wtjbmxmb3</td>\n",
       "      <td>MALE</td>\n",
       "      <td>35</td>\n",
       "      <td>basic</td>\n",
       "      <td>25</td>\n",
       "      <td>en</td>\n",
       "      <td>direct</td>\n",
       "      <td>direct</td>\n",
       "      <td>untracked</td>\n",
       "      <td>iOS</td>\n",
       "      <td>iPad</td>\n",
       "      <td>-unknown-</td>\n",
       "    </tr>\n",
       "    <tr>\n",
       "      <th>2995</th>\n",
       "      <td>floutkfa37</td>\n",
       "      <td>-unknown-</td>\n",
       "      <td>28</td>\n",
       "      <td>basic</td>\n",
       "      <td>3</td>\n",
       "      <td>en</td>\n",
       "      <td>direct</td>\n",
       "      <td>direct</td>\n",
       "      <td>omg</td>\n",
       "      <td>Web</td>\n",
       "      <td>Mac Desktop</td>\n",
       "      <td>Safari</td>\n",
       "    </tr>\n",
       "    <tr>\n",
       "      <th>73845</th>\n",
       "      <td>4au7h23zsl</td>\n",
       "      <td>MALE</td>\n",
       "      <td>30</td>\n",
       "      <td>facebook</td>\n",
       "      <td>0</td>\n",
       "      <td>en</td>\n",
       "      <td>direct</td>\n",
       "      <td>direct</td>\n",
       "      <td>untracked</td>\n",
       "      <td>Web</td>\n",
       "      <td>Mac Desktop</td>\n",
       "      <td>Chrome</td>\n",
       "    </tr>\n",
       "  </tbody>\n",
       "</table>\n",
       "</div>"
      ],
      "text/plain": [
       "                id     gender  age signup_method  signup_flow language  \\\n",
       "22531   b9eperouva     FEMALE   22      facebook            0       en   \n",
       "139247  6eqkvzq32e     FEMALE   63         basic            0       en   \n",
       "170612  8wtjbmxmb3       MALE   35         basic           25       en   \n",
       "2995    floutkfa37  -unknown-   28         basic            3       en   \n",
       "73845   4au7h23zsl       MALE   30      facebook            0       en   \n",
       "\n",
       "       affiliate_channel affiliate_provider first_affiliate_tracked  \\\n",
       "22531      sem-non-brand               bing                     omg   \n",
       "139247         sem-brand             google               untracked   \n",
       "170612            direct             direct               untracked   \n",
       "2995              direct             direct                     omg   \n",
       "73845             direct             direct               untracked   \n",
       "\n",
       "       signup_app first_device_type first_browser  \n",
       "22531         Web   Windows Desktop            IE  \n",
       "139247        Web       Mac Desktop        Safari  \n",
       "170612        iOS              iPad     -unknown-  \n",
       "2995          Web       Mac Desktop        Safari  \n",
       "73845         Web       Mac Desktop        Chrome  "
      ]
     },
     "execution_count": 72,
     "metadata": {},
     "output_type": "execute_result"
    }
   ],
   "source": [
    "X_train.head()"
   ]
  },
  {
   "cell_type": "code",
   "execution_count": 73,
   "metadata": {
    "ExecuteTime": {
     "end_time": "2022-08-12T23:07:23.265987Z",
     "start_time": "2022-08-12T23:07:23.244676Z"
    }
   },
   "outputs": [],
   "source": [
    "# Drop id to dataset\n",
    "\n",
    "X_train = X_train.drop('id',axis=1)\n",
    "X_test = X_test.drop('id', axis=1)"
   ]
  },
  {
   "cell_type": "code",
   "execution_count": 74,
   "metadata": {
    "ExecuteTime": {
     "end_time": "2022-08-12T23:07:24.820720Z",
     "start_time": "2022-08-12T23:07:24.803785Z"
    }
   },
   "outputs": [
    {
     "data": {
      "text/plain": [
       "(54536, 112)"
      ]
     },
     "execution_count": 74,
     "metadata": {},
     "output_type": "execute_result"
    }
   ],
   "source": [
    "x_train.shape"
   ]
  },
  {
   "cell_type": "code",
   "execution_count": 75,
   "metadata": {
    "ExecuteTime": {
     "end_time": "2022-08-12T23:07:26.423065Z",
     "start_time": "2022-08-12T23:07:26.408508Z"
    }
   },
   "outputs": [
    {
     "data": {
      "text/plain": [
       "(13635, 112)"
      ]
     },
     "execution_count": 75,
     "metadata": {},
     "output_type": "execute_result"
    }
   ],
   "source": [
    "x_test.shape"
   ]
  },
  {
   "cell_type": "code",
   "execution_count": 34,
   "metadata": {
    "ExecuteTime": {
     "end_time": "2022-08-12T16:29:57.556696Z",
     "start_time": "2022-08-12T16:29:57.470643Z"
    }
   },
   "outputs": [],
   "source": [
    "ohe = pp.OneHotEncoder()\n",
    "y_train_nn = ohe.fit_transform( y_train.values.reshape( -1, 1 ) ).toarray()"
   ]
  },
  {
   "cell_type": "code",
   "execution_count": 35,
   "metadata": {
    "ExecuteTime": {
     "end_time": "2022-08-12T16:29:58.685416Z",
     "start_time": "2022-08-12T16:29:58.671960Z"
    }
   },
   "outputs": [
    {
     "data": {
      "text/plain": [
       "array([[0., 0., 0., ..., 0., 1., 0.],\n",
       "       [0., 0., 0., ..., 0., 0., 0.],\n",
       "       [0., 0., 0., ..., 0., 0., 0.],\n",
       "       ...,\n",
       "       [0., 0., 0., ..., 0., 1., 0.],\n",
       "       [0., 0., 0., ..., 0., 0., 0.],\n",
       "       [0., 0., 0., ..., 0., 1., 0.]])"
      ]
     },
     "execution_count": 35,
     "metadata": {},
     "output_type": "execute_result"
    }
   ],
   "source": [
    "y_train_nn"
   ]
  },
  {
   "cell_type": "code",
   "execution_count": 36,
   "metadata": {
    "ExecuteTime": {
     "end_time": "2022-08-12T16:44:27.216653Z",
     "start_time": "2022-08-12T16:30:03.743686Z"
    }
   },
   "outputs": [
    {
     "name": "stderr",
     "output_type": "stream",
     "text": [
      "2022-08-12 13:30:03.781165: W tensorflow/stream_executor/platform/default/dso_loader.cc:64] Could not load dynamic library 'libcuda.so.1'; dlerror: libcuda.so.1: cannot open shared object file: No such file or directory\n",
      "2022-08-12 13:30:03.781202: W tensorflow/stream_executor/cuda/cuda_driver.cc:269] failed call to cuInit: UNKNOWN ERROR (303)\n",
      "2022-08-12 13:30:03.781244: I tensorflow/stream_executor/cuda/cuda_diagnostics.cc:156] kernel driver does not appear to be running on this host (ehgeraldo-VirtualBox): /proc/driver/nvidia/version does not exist\n",
      "2022-08-12 13:30:03.782634: I tensorflow/core/platform/cpu_feature_guard.cc:193] This TensorFlow binary is optimized with oneAPI Deep Neural Network Library (oneDNN) to use the following CPU instructions in performance-critical operations:  AVX2\n",
      "To enable them in other operations, rebuild TensorFlow with the appropriate compiler flags.\n"
     ]
    },
    {
     "name": "stdout",
     "output_type": "stream",
     "text": [
      "Epoch 1/100\n",
      "1705/1705 [==============================] - 8s 4ms/step - loss: 1.3704 - accuracy: 0.6999\n",
      "Epoch 2/100\n",
      "1705/1705 [==============================] - 8s 4ms/step - loss: 1.2643 - accuracy: 0.7071\n",
      "Epoch 3/100\n",
      "1705/1705 [==============================] - 7s 4ms/step - loss: 1.2302 - accuracy: 0.7082\n",
      "Epoch 4/100\n",
      "1705/1705 [==============================] - 6s 4ms/step - loss: 1.2118 - accuracy: 0.7082\n",
      "Epoch 5/100\n",
      "1705/1705 [==============================] - 5s 3ms/step - loss: 1.1925 - accuracy: 0.7086\n",
      "Epoch 6/100\n",
      "1705/1705 [==============================] - 5s 3ms/step - loss: 1.1808 - accuracy: 0.7084\n",
      "Epoch 7/100\n",
      "1705/1705 [==============================] - 5s 3ms/step - loss: 1.1610 - accuracy: 0.7087\n",
      "Epoch 8/100\n",
      "1705/1705 [==============================] - 7s 4ms/step - loss: 1.1490 - accuracy: 0.7088\n",
      "Epoch 9/100\n",
      "1705/1705 [==============================] - 7s 4ms/step - loss: 1.1428 - accuracy: 0.7087\n",
      "Epoch 10/100\n",
      "1705/1705 [==============================] - 6s 3ms/step - loss: 1.1393 - accuracy: 0.7090\n",
      "Epoch 11/100\n",
      "1705/1705 [==============================] - 7s 4ms/step - loss: 1.1342 - accuracy: 0.7091\n",
      "Epoch 12/100\n",
      "1705/1705 [==============================] - 8s 5ms/step - loss: 1.1330 - accuracy: 0.7094\n",
      "Epoch 13/100\n",
      "1705/1705 [==============================] - 9s 5ms/step - loss: 1.1305 - accuracy: 0.7095\n",
      "Epoch 14/100\n",
      "1705/1705 [==============================] - 8s 5ms/step - loss: 1.1296 - accuracy: 0.7096\n",
      "Epoch 15/100\n",
      "1705/1705 [==============================] - 9s 5ms/step - loss: 1.1288 - accuracy: 0.7097\n",
      "Epoch 16/100\n",
      "1705/1705 [==============================] - 8s 4ms/step - loss: 1.1272 - accuracy: 0.7096\n",
      "Epoch 17/100\n",
      "1705/1705 [==============================] - 6s 4ms/step - loss: 1.1261 - accuracy: 0.7098\n",
      "Epoch 18/100\n",
      "1705/1705 [==============================] - 6s 4ms/step - loss: 1.1242 - accuracy: 0.7098\n",
      "Epoch 19/100\n",
      "1705/1705 [==============================] - 7s 4ms/step - loss: 1.1240 - accuracy: 0.7097\n",
      "Epoch 20/100\n",
      "1705/1705 [==============================] - 6s 4ms/step - loss: 1.1229 - accuracy: 0.7097\n",
      "Epoch 21/100\n",
      "1705/1705 [==============================] - 7s 4ms/step - loss: 1.1219 - accuracy: 0.7098\n",
      "Epoch 22/100\n",
      "1705/1705 [==============================] - 6s 4ms/step - loss: 1.1219 - accuracy: 0.7099\n",
      "Epoch 23/100\n",
      "1705/1705 [==============================] - 7s 4ms/step - loss: 1.1207 - accuracy: 0.7099\n",
      "Epoch 24/100\n",
      "1705/1705 [==============================] - 12s 7ms/step - loss: 1.1209 - accuracy: 0.7099\n",
      "Epoch 25/100\n",
      "1705/1705 [==============================] - 7s 4ms/step - loss: 1.1197 - accuracy: 0.7098\n",
      "Epoch 26/100\n",
      "1705/1705 [==============================] - 6s 4ms/step - loss: 1.1188 - accuracy: 0.7100\n",
      "Epoch 27/100\n",
      "1705/1705 [==============================] - 7s 4ms/step - loss: 1.1183 - accuracy: 0.7100\n",
      "Epoch 28/100\n",
      "1705/1705 [==============================] - 6s 4ms/step - loss: 1.1169 - accuracy: 0.7100\n",
      "Epoch 29/100\n",
      "1705/1705 [==============================] - 7s 4ms/step - loss: 1.1169 - accuracy: 0.7100\n",
      "Epoch 30/100\n",
      "1705/1705 [==============================] - 6s 4ms/step - loss: 1.1167 - accuracy: 0.7102\n",
      "Epoch 31/100\n",
      "1705/1705 [==============================] - 7s 4ms/step - loss: 1.1150 - accuracy: 0.7101\n",
      "Epoch 32/100\n",
      "1705/1705 [==============================] - 6s 4ms/step - loss: 1.1144 - accuracy: 0.7102\n",
      "Epoch 33/100\n",
      "1705/1705 [==============================] - 6s 4ms/step - loss: 1.1141 - accuracy: 0.7103\n",
      "Epoch 34/100\n",
      "1705/1705 [==============================] - 8s 4ms/step - loss: 1.1131 - accuracy: 0.7104\n",
      "Epoch 35/100\n",
      "1705/1705 [==============================] - 6s 4ms/step - loss: 1.1122 - accuracy: 0.7103\n",
      "Epoch 36/100\n",
      "1705/1705 [==============================] - 7s 4ms/step - loss: 1.1124 - accuracy: 0.7103\n",
      "Epoch 37/100\n",
      "1705/1705 [==============================] - 6s 4ms/step - loss: 1.1121 - accuracy: 0.7104\n",
      "Epoch 38/100\n",
      "1705/1705 [==============================] - 6s 4ms/step - loss: 1.1109 - accuracy: 0.7106\n",
      "Epoch 39/100\n",
      "1705/1705 [==============================] - 7s 4ms/step - loss: 1.1109 - accuracy: 0.7107\n",
      "Epoch 40/100\n",
      "1705/1705 [==============================] - 8s 5ms/step - loss: 1.1105 - accuracy: 0.7107\n",
      "Epoch 41/100\n",
      "1705/1705 [==============================] - 8s 5ms/step - loss: 1.1093 - accuracy: 0.7107\n",
      "Epoch 42/100\n",
      "1705/1705 [==============================] - 8s 5ms/step - loss: 1.1091 - accuracy: 0.7105\n",
      "Epoch 43/100\n",
      "1705/1705 [==============================] - 9s 6ms/step - loss: 1.1086 - accuracy: 0.7105\n",
      "Epoch 44/100\n",
      "1705/1705 [==============================] - 9s 5ms/step - loss: 1.1087 - accuracy: 0.7105\n",
      "Epoch 45/100\n",
      "1705/1705 [==============================] - 7s 4ms/step - loss: 1.1083 - accuracy: 0.7109\n",
      "Epoch 46/100\n",
      "1705/1705 [==============================] - 7s 4ms/step - loss: 1.1074 - accuracy: 0.7107\n",
      "Epoch 47/100\n",
      "1705/1705 [==============================] - 6s 4ms/step - loss: 1.1069 - accuracy: 0.7110\n",
      "Epoch 48/100\n",
      "1705/1705 [==============================] - 9s 5ms/step - loss: 1.1082 - accuracy: 0.7108\n",
      "Epoch 49/100\n",
      "1705/1705 [==============================] - 8s 5ms/step - loss: 1.1059 - accuracy: 0.7108\n",
      "Epoch 50/100\n",
      "1705/1705 [==============================] - 7s 4ms/step - loss: 1.1060 - accuracy: 0.7109\n",
      "Epoch 51/100\n",
      "1705/1705 [==============================] - 7s 4ms/step - loss: 1.1054 - accuracy: 0.7109\n",
      "Epoch 52/100\n",
      "1705/1705 [==============================] - 7s 4ms/step - loss: 1.1052 - accuracy: 0.7110\n",
      "Epoch 53/100\n",
      "1705/1705 [==============================] - 7s 4ms/step - loss: 1.1043 - accuracy: 0.7111\n",
      "Epoch 54/100\n",
      "1705/1705 [==============================] - 7s 4ms/step - loss: 1.1039 - accuracy: 0.7112\n",
      "Epoch 55/100\n",
      "1705/1705 [==============================] - 7s 4ms/step - loss: 1.1034 - accuracy: 0.7113\n",
      "Epoch 56/100\n",
      "1705/1705 [==============================] - 7s 4ms/step - loss: 1.1038 - accuracy: 0.7113\n",
      "Epoch 57/100\n",
      "1705/1705 [==============================] - 7s 4ms/step - loss: 1.1037 - accuracy: 0.7114\n",
      "Epoch 58/100\n",
      "1705/1705 [==============================] - 7s 4ms/step - loss: 1.1031 - accuracy: 0.7111\n",
      "Epoch 59/100\n",
      "1705/1705 [==============================] - 7s 4ms/step - loss: 1.1025 - accuracy: 0.7112\n",
      "Epoch 60/100\n",
      "1705/1705 [==============================] - 7s 4ms/step - loss: 1.1020 - accuracy: 0.7115\n",
      "Epoch 61/100\n",
      "1705/1705 [==============================] - 8s 5ms/step - loss: 1.1017 - accuracy: 0.7115\n",
      "Epoch 62/100\n",
      "1705/1705 [==============================] - 8s 5ms/step - loss: 1.1016 - accuracy: 0.7113\n",
      "Epoch 63/100\n",
      "1705/1705 [==============================] - 8s 4ms/step - loss: 1.1013 - accuracy: 0.7115\n",
      "Epoch 64/100\n",
      "1705/1705 [==============================] - 9s 5ms/step - loss: 1.1004 - accuracy: 0.7115\n",
      "Epoch 65/100\n",
      "1705/1705 [==============================] - 8s 5ms/step - loss: 1.1006 - accuracy: 0.7118\n",
      "Epoch 66/100\n",
      "1705/1705 [==============================] - 9s 5ms/step - loss: 1.1008 - accuracy: 0.7115\n",
      "Epoch 67/100\n",
      "1705/1705 [==============================] - 10s 6ms/step - loss: 1.1008 - accuracy: 0.7115\n",
      "Epoch 68/100\n",
      "1705/1705 [==============================] - 10s 6ms/step - loss: 1.0998 - accuracy: 0.7118\n",
      "Epoch 69/100\n",
      "1705/1705 [==============================] - 10s 6ms/step - loss: 1.1001 - accuracy: 0.7118\n",
      "Epoch 70/100\n",
      "1705/1705 [==============================] - 11s 7ms/step - loss: 1.0997 - accuracy: 0.7116\n",
      "Epoch 71/100\n",
      "1705/1705 [==============================] - 13s 7ms/step - loss: 1.0996 - accuracy: 0.7119\n",
      "Epoch 72/100\n",
      "1705/1705 [==============================] - 12s 7ms/step - loss: 1.0996 - accuracy: 0.7118\n",
      "Epoch 73/100\n",
      "1705/1705 [==============================] - 12s 7ms/step - loss: 1.0985 - accuracy: 0.7120\n",
      "Epoch 74/100\n",
      "1705/1705 [==============================] - 11s 7ms/step - loss: 1.0980 - accuracy: 0.7119\n",
      "Epoch 75/100\n",
      "1705/1705 [==============================] - 11s 7ms/step - loss: 1.0973 - accuracy: 0.7117\n",
      "Epoch 76/100\n",
      "1705/1705 [==============================] - 9s 5ms/step - loss: 1.0980 - accuracy: 0.7118\n",
      "Epoch 77/100\n",
      "1705/1705 [==============================] - 9s 5ms/step - loss: 1.0976 - accuracy: 0.7120\n",
      "Epoch 78/100\n",
      "1705/1705 [==============================] - 9s 5ms/step - loss: 1.0968 - accuracy: 0.7122\n",
      "Epoch 79/100\n"
     ]
    },
    {
     "name": "stdout",
     "output_type": "stream",
     "text": [
      "1705/1705 [==============================] - 9s 5ms/step - loss: 1.0972 - accuracy: 0.7119\n",
      "Epoch 80/100\n",
      "1705/1705 [==============================] - 8s 4ms/step - loss: 1.0969 - accuracy: 0.7122\n",
      "Epoch 81/100\n",
      "1705/1705 [==============================] - 10s 6ms/step - loss: 1.0966 - accuracy: 0.7118\n",
      "Epoch 82/100\n",
      "1705/1705 [==============================] - 10s 6ms/step - loss: 1.0960 - accuracy: 0.7123\n",
      "Epoch 83/100\n",
      "1705/1705 [==============================] - 11s 7ms/step - loss: 1.0958 - accuracy: 0.7122\n",
      "Epoch 84/100\n",
      "1705/1705 [==============================] - 9s 5ms/step - loss: 1.0960 - accuracy: 0.7122\n",
      "Epoch 85/100\n",
      "1705/1705 [==============================] - 8s 5ms/step - loss: 1.0956 - accuracy: 0.7122\n",
      "Epoch 86/100\n",
      "1705/1705 [==============================] - 9s 5ms/step - loss: 1.0954 - accuracy: 0.7122\n",
      "Epoch 87/100\n",
      "1705/1705 [==============================] - 10s 6ms/step - loss: 1.0955 - accuracy: 0.7127\n",
      "Epoch 88/100\n",
      "1705/1705 [==============================] - 10s 6ms/step - loss: 1.0956 - accuracy: 0.7126\n",
      "Epoch 89/100\n",
      "1705/1705 [==============================] - 12s 7ms/step - loss: 1.0951 - accuracy: 0.7122\n",
      "Epoch 90/100\n",
      "1705/1705 [==============================] - 10s 6ms/step - loss: 1.0949 - accuracy: 0.7121\n",
      "Epoch 91/100\n",
      "1705/1705 [==============================] - 11s 7ms/step - loss: 1.0947 - accuracy: 0.7121\n",
      "Epoch 92/100\n",
      "1705/1705 [==============================] - 11s 6ms/step - loss: 1.0949 - accuracy: 0.7124\n",
      "Epoch 93/100\n",
      "1705/1705 [==============================] - 16s 9ms/step - loss: 1.0941 - accuracy: 0.7122\n",
      "Epoch 94/100\n",
      "1705/1705 [==============================] - 12s 7ms/step - loss: 1.0942 - accuracy: 0.7127\n",
      "Epoch 95/100\n",
      "1705/1705 [==============================] - 12s 7ms/step - loss: 1.0942 - accuracy: 0.7123\n",
      "Epoch 96/100\n",
      "1705/1705 [==============================] - 8s 4ms/step - loss: 1.0939 - accuracy: 0.7126\n",
      "Epoch 97/100\n",
      "1705/1705 [==============================] - 5s 3ms/step - loss: 1.0937 - accuracy: 0.7125\n",
      "Epoch 98/100\n",
      "1705/1705 [==============================] - 6s 4ms/step - loss: 1.0939 - accuracy: 0.7123\n",
      "Epoch 99/100\n",
      "1705/1705 [==============================] - 5s 3ms/step - loss: 1.0931 - accuracy: 0.7124\n",
      "Epoch 100/100\n",
      "1705/1705 [==============================] - 6s 4ms/step - loss: 1.0938 - accuracy: 0.7126\n"
     ]
    },
    {
     "data": {
      "text/plain": [
       "<keras.callbacks.History at 0x7f6f8617da00>"
      ]
     },
     "execution_count": 36,
     "metadata": {},
     "output_type": "execute_result"
    }
   ],
   "source": [
    "# model definition\n",
    "model = ml.Sequential()\n",
    "model.add( l.Dense( 128, input_dim= X_train.shape[1], activation='relu' ) )\n",
    "model.add( l.Dense( 11, activation='softmax') )\n",
    "\n",
    "# model compile\n",
    "model.compile( loss='categorical_crossentropy', optimizer='adam', metrics=['accuracy'] )\n",
    "\n",
    "# train model\n",
    "model.fit( x_train, y_train_nn, epochs=100 )"
   ]
  },
  {
   "cell_type": "markdown",
   "metadata": {},
   "source": [
    "## 5.1. NN Performance"
   ]
  },
  {
   "cell_type": "code",
   "execution_count": 78,
   "metadata": {
    "ExecuteTime": {
     "end_time": "2022-08-13T01:11:34.123452Z",
     "start_time": "2022-08-13T01:11:32.562575Z"
    }
   },
   "outputs": [
    {
     "name": "stdout",
     "output_type": "stream",
     "text": [
      "427/427 [==============================] - 1s 2ms/step\n"
     ]
    }
   ],
   "source": [
    "# prediction\n",
    "pred_nn = model.predict( x_test )\n",
    "\n",
    "# invert prediction\n",
    "yhat_nn = ohe.inverse_transform( pred_nn )\n",
    "\n",
    "# prediction prepare\n",
    "y_test_nn = y_test.to_numpy()\n",
    "yhat_nn = yhat_nn.reshape( 1, -1 )[0]"
   ]
  },
  {
   "cell_type": "code",
   "execution_count": 79,
   "metadata": {
    "ExecuteTime": {
     "end_time": "2022-08-13T01:11:38.741119Z",
     "start_time": "2022-08-13T01:11:37.530439Z"
    }
   },
   "outputs": [
    {
     "name": "stdout",
     "output_type": "stream",
     "text": [
      "Accuracy: 0.702016868353502\n"
     ]
    },
    {
     "data": {
      "text/plain": [
       "<AxesSubplot:title={'center':'Confusion Matrix'}, xlabel='Predicted label', ylabel='True label'>"
      ]
     },
     "execution_count": 79,
     "metadata": {},
     "output_type": "execute_result"
    },
    {
     "data": {
      "image/png": "[encoded data removed]",
      "text/plain": [
       "<Figure size 864x864 with 2 Axes>"
      ]
     },
     "metadata": {
      "needs_background": "light"
     },
     "output_type": "display_data"
    }
   ],
   "source": [
    "# Accuracy\n",
    "acc_nn = m.accuracy_score( y_test_nn, yhat_nn )\n",
    "print( 'Accuracy: {}'.format( acc_nn ) )\n",
    "\n",
    "# Confusion Matrix\n",
    "mt.plot_confusion_matrix( y_test_nn, yhat_nn, normalize=False, figsize=(12,12))\n",
    "\n",
    "\n",
    "# Balanced Accuray\n",
    "# F-Score Balanced\n",
    "# Recall-Precison\n",
    "# ROC \n",
    "# Kappa Metrics\n",
    "# Matthew Metrics"
   ]
  },
  {
   "cell_type": "code",
   "execution_count": null,
   "metadata": {},
   "outputs": [],
   "source": []
  },
  {
   "cell_type": "code",
   "execution_count": null,
   "metadata": {},
   "outputs": [],
   "source": []
  },
  {
   "cell_type": "code",
   "execution_count": null,
   "metadata": {},
   "outputs": [],
   "source": []
  },
  {
   "cell_type": "code",
   "execution_count": null,
   "metadata": {},
   "outputs": [],
   "source": []
  },
  {
   "cell_type": "code",
   "execution_count": null,
   "metadata": {},
   "outputs": [],
   "source": []
  }
 ],
 "metadata": {
  "kernelspec": {
   "display_name": "Python 3 (ipykernel)",
   "language": "python",
   "name": "python3"
  },
  "language_info": {
   "codemirror_mode": {
    "name": "ipython",
    "version": 3
   },
   "file_extension": ".py",
   "mimetype": "text/x-python",
   "name": "python",
   "nbconvert_exporter": "python",
   "pygments_lexer": "ipython3",
   "version": "3.9.5"
  },
  "toc": {
   "base_numbering": 1,
   "nav_menu": {},
   "number_sections": true,
   "sideBar": true,
   "skip_h1_title": false,
   "title_cell": "Table of Contents",
   "title_sidebar": "Contents",
   "toc_cell": false,
   "toc_position": {},
   "toc_section_display": true,
   "toc_window_display": false
  }
 },
 "nbformat": 4,
 "nbformat_minor": 4
}
