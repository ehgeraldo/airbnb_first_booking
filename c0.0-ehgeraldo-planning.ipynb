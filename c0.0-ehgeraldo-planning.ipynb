{
 "cells": [
  {
   "cell_type": "markdown",
   "metadata": {},
   "source": [
    "# PA001: Airbnb"
   ]
  },
  {
   "cell_type": "markdown",
   "metadata": {},
   "source": [
    "# Planejamento da solução (IOT)"
   ]
  },
  {
   "cell_type": "markdown",
   "metadata": {
    "heading_collapsed": true
   },
   "source": [
    "# Input - Entrada \n",
    "   "
   ]
  },
  {
   "cell_type": "markdown",
   "metadata": {
    "heading_collapsed": true,
    "hidden": true
   },
   "source": [
    "## O problema de negócio\n",
    "\n",
    " 1. Mapear as previsões de escolha de destino aos usuários de uma plataforma de locação de hospedagem."
   ]
  },
  {
   "cell_type": "markdown",
   "metadata": {
    "heading_collapsed": true
   },
   "source": [
    "# Output - Saída"
   ]
  },
  {
   "cell_type": "markdown",
   "metadata": {
    "hidden": true
   },
   "source": [
    "## Modelo de Previsão para escolha do primeiro destino do usuário.\n",
    "\n",
    "\n",
    "   1.0. Predições serão salvas em uma tabela do banco de dados.\n",
    "\n",
    "   2.0. API\n",
    "\n",
    "   Input: usuários e suas características;\n",
    "\n",
    "   Output: usuários e suas características com a predição do destino;"
   ]
  },
  {
   "cell_type": "markdown",
   "metadata": {
    "heading_collapsed": true
   },
   "source": [
    "# Tasks - Processo"
   ]
  },
  {
   "cell_type": "markdown",
   "metadata": {
    "ExecuteTime": {
     "end_time": "2022-08-06T02:05:32.103047Z",
     "start_time": "2022-08-06T02:05:32.088880Z"
    },
    "hidden": true
   },
   "source": [
    " * New York City Airbnb Open Data:\n",
    " * https://www.kaggle.com/datasets/dgomonov/new-york-city-airbnb-open-data/code\n",
    " * Airbnb listings and metrics in NYC, NY, USA (2019)\n",
    "    \n",
    "\n",
    "*- Compreensão do modelo de negócio do Airbnb*\n",
    "   - Marketplace ( Conectar pessoas que oferecem acomodação, com pessoas que estão procurando acomodação).\n",
    " \n",
    "    \n",
    "*- Usuários oferecem acomodações*\n",
    "   - Tamanho do portfólio.\n",
    "   - Diversidade/Densidade de Portfólio.\n",
    "   - Preço Médio\n",
    "\n",
    "*- Alta demanda* (usuário que não desejam hotel).\n",
    "   - Número de Usuários\n",
    "   - LTV ( Lifetime Value )\n",
    "   - CAC ( Client Acquisition Cost )\n",
    "   - Gross Revenue = ( Fee*Número cliente ) - CAC "
   ]
  },
  {
   "cell_type": "markdown",
   "metadata": {},
   "source": [
    "# Imports"
   ]
  },
  {
   "cell_type": "code",
   "execution_count": 1,
   "metadata": {
    "ExecuteTime": {
     "end_time": "2022-08-17T16:55:35.061131Z",
     "start_time": "2022-08-17T16:55:25.304677Z"
    }
   },
   "outputs": [
    {
     "name": "stderr",
     "output_type": "stream",
     "text": [
      "/home/ehgeraldo/miniconda3/lib/python3.9/site-packages/scipy/__init__.py:146: UserWarning: A NumPy version >=1.16.5 and <1.23.0 is required for this version of SciPy (detected version 1.23.1\n",
      "  warnings.warn(f\"A NumPy version >={np_minversion} and <{np_maxversion}\"\n",
      "2022-08-17 13:55:29.547226: W tensorflow/stream_executor/platform/default/dso_loader.cc:64] Could not load dynamic library 'libcudart.so.11.0'; dlerror: libcudart.so.11.0: cannot open shared object file: No such file or directory\n",
      "2022-08-17 13:55:29.547272: I tensorflow/stream_executor/cuda/cudart_stub.cc:29] Ignore above cudart dlerror if you do not have a GPU set up on your machine.\n"
     ]
    }
   ],
   "source": [
    "import pandas as pd\n",
    "from sklearn import model_selection as ms\n",
    "from sklearn import preprocessing  as pp\n",
    "from sklearn import metrics         as m\n",
    "from scikitplot import metrics      as mt\n",
    "\n",
    "from keras import models as ml\n",
    "from keras import layers as l"
   ]
  },
  {
   "cell_type": "markdown",
   "metadata": {
    "heading_collapsed": true
   },
   "source": [
    "## Helper Functions"
   ]
  },
  {
   "cell_type": "markdown",
   "metadata": {},
   "source": [
    "## Loading Data"
   ]
  },
  {
   "cell_type": "code",
   "execution_count": 11,
   "metadata": {
    "ExecuteTime": {
     "end_time": "2022-08-17T17:03:09.582812Z",
     "start_time": "2022-08-17T17:03:09.563747Z"
    }
   },
   "outputs": [
    {
     "data": {
      "text/plain": [
       "'/home/ehgeraldo/repos/airbnb'"
      ]
     },
     "execution_count": 11,
     "metadata": {},
     "output_type": "execute_result"
    }
   ],
   "source": [
    "pwd"
   ]
  },
  {
   "cell_type": "code",
   "execution_count": 15,
   "metadata": {
    "ExecuteTime": {
     "end_time": "2022-08-17T17:05:30.167478Z",
     "start_time": "2022-08-17T17:05:29.389700Z"
    }
   },
   "outputs": [],
   "source": [
    "# load data\n",
    "df_raw = pd.read_csv('/home/ehgeraldo/repos/airbnb/data/train_users.csv')"
   ]
  },
  {
   "cell_type": "markdown",
   "metadata": {
    "ExecuteTime": {
     "end_time": "2022-08-07T23:18:52.741663Z",
     "start_time": "2022-08-07T23:18:52.734641Z"
    }
   },
   "source": [
    "# Data Description"
   ]
  },
  {
   "cell_type": "code",
   "execution_count": 16,
   "metadata": {
    "ExecuteTime": {
     "end_time": "2022-08-17T17:05:42.532782Z",
     "start_time": "2022-08-17T17:05:42.502248Z"
    }
   },
   "outputs": [],
   "source": [
    "df1 = df_raw.copy()"
   ]
  },
  {
   "cell_type": "markdown",
   "metadata": {},
   "source": [
    "### Data dimensions"
   ]
  },
  {
   "cell_type": "code",
   "execution_count": 17,
   "metadata": {
    "ExecuteTime": {
     "end_time": "2022-08-17T17:05:45.681525Z",
     "start_time": "2022-08-17T17:05:45.667616Z"
    }
   },
   "outputs": [
    {
     "name": "stdout",
     "output_type": "stream",
     "text": [
      "Number of rows:    213451\n",
      "Number of columns: 16\n"
     ]
    }
   ],
   "source": [
    "print( 'Number of rows:    {}'.format( df_raw.shape[0] ) )\n",
    "print( 'Number of columns: {}'.format( df_raw.shape[1] ) )"
   ]
  },
  {
   "cell_type": "markdown",
   "metadata": {},
   "source": [
    "### Data types"
   ]
  },
  {
   "cell_type": "code",
   "execution_count": 19,
   "metadata": {
    "ExecuteTime": {
     "end_time": "2022-08-17T17:06:30.542326Z",
     "start_time": "2022-08-17T17:06:30.524283Z"
    }
   },
   "outputs": [
    {
     "data": {
      "text/plain": [
       "id                          object\n",
       "date_account_created        object\n",
       "timestamp_first_active       int64\n",
       "date_first_booking          object\n",
       "gender                      object\n",
       "age                        float64\n",
       "signup_method               object\n",
       "signup_flow                  int64\n",
       "language                    object\n",
       "affiliate_channel           object\n",
       "affiliate_provider          object\n",
       "first_affiliate_tracked     object\n",
       "signup_app                  object\n",
       "first_device_type           object\n",
       "first_browser               object\n",
       "country_destination         object\n",
       "dtype: object"
      ]
     },
     "execution_count": 19,
     "metadata": {},
     "output_type": "execute_result"
    }
   ],
   "source": [
    "df1.dtypes"
   ]
  },
  {
   "cell_type": "markdown",
   "metadata": {},
   "source": [
    "### Check NAs"
   ]
  },
  {
   "cell_type": "code",
   "execution_count": 20,
   "metadata": {
    "ExecuteTime": {
     "end_time": "2022-08-17T17:06:33.469006Z",
     "start_time": "2022-08-17T17:06:32.970083Z"
    }
   },
   "outputs": [
    {
     "data": {
      "text/plain": [
       "id                              0\n",
       "date_account_created            0\n",
       "timestamp_first_active          0\n",
       "date_first_booking         124543\n",
       "gender                          0\n",
       "age                         87990\n",
       "signup_method                   0\n",
       "signup_flow                     0\n",
       "language                        0\n",
       "affiliate_channel               0\n",
       "affiliate_provider              0\n",
       "first_affiliate_tracked      6065\n",
       "signup_app                      0\n",
       "first_device_type               0\n",
       "first_browser                   0\n",
       "country_destination             0\n",
       "dtype: int64"
      ]
     },
     "execution_count": 20,
     "metadata": {},
     "output_type": "execute_result"
    }
   ],
   "source": [
    "df1.isna().sum()"
   ]
  },
  {
   "cell_type": "markdown",
   "metadata": {},
   "source": [
    "### Replace NAs"
   ]
  },
  {
   "cell_type": "code",
   "execution_count": 21,
   "metadata": {
    "ExecuteTime": {
     "end_time": "2022-08-17T17:06:43.872384Z",
     "start_time": "2022-08-17T17:06:43.331403Z"
    }
   },
   "outputs": [
    {
     "data": {
      "text/plain": [
       "(68171, 16)"
      ]
     },
     "execution_count": 21,
     "metadata": {},
     "output_type": "execute_result"
    }
   ],
   "source": [
    "df1 = df1.dropna()\n",
    "df1.shape"
   ]
  },
  {
   "cell_type": "code",
   "execution_count": 22,
   "metadata": {
    "ExecuteTime": {
     "end_time": "2022-08-17T17:06:50.107325Z",
     "start_time": "2022-08-17T17:06:50.094938Z"
    }
   },
   "outputs": [
    {
     "name": "stdout",
     "output_type": "stream",
     "text": [
      "Removed data: 0.68%\n"
     ]
    }
   ],
   "source": [
    "print('Removed data: {:.2f}%'.format( 1-(df1.shape[0] / df_raw.shape[0] ) ) )"
   ]
  },
  {
   "cell_type": "code",
   "execution_count": 23,
   "metadata": {
    "ExecuteTime": {
     "end_time": "2022-08-17T17:06:56.468869Z",
     "start_time": "2022-08-17T17:06:56.191059Z"
    }
   },
   "outputs": [
    {
     "data": {
      "text/plain": [
       "id                         0\n",
       "date_account_created       0\n",
       "timestamp_first_active     0\n",
       "date_first_booking         0\n",
       "gender                     0\n",
       "age                        0\n",
       "signup_method              0\n",
       "signup_flow                0\n",
       "language                   0\n",
       "affiliate_channel          0\n",
       "affiliate_provider         0\n",
       "first_affiliate_tracked    0\n",
       "signup_app                 0\n",
       "first_device_type          0\n",
       "first_browser              0\n",
       "country_destination        0\n",
       "dtype: int64"
      ]
     },
     "execution_count": 23,
     "metadata": {},
     "output_type": "execute_result"
    }
   ],
   "source": [
    "df1.isna().sum()"
   ]
  },
  {
   "cell_type": "code",
   "execution_count": 24,
   "metadata": {
    "ExecuteTime": {
     "end_time": "2022-08-17T17:07:34.577676Z",
     "start_time": "2022-08-17T17:07:33.734753Z"
    }
   },
   "outputs": [],
   "source": [
    "# date_account_created : (object -> datetime)\n",
    "df1['date_account_created'] = pd.to_datetime( df1['date_account_created'] )\n",
    "\n",
    "# timestamp_first_active : (int64 -> datetime)\n",
    "df1['timestamp_first_active'] = pd.to_datetime( df1['timestamp_first_active'], format='%Y%m%d%H%M%S' )\n",
    "\n",
    "# date_first_booking : (object -> datetime)\n",
    "df1['date_first_booking'] = pd.to_datetime( df1['date_first_booking'] )\n",
    "\n",
    "# age : (float64 -> int64)\n",
    "df1['age'] = df1['age'].astype( int )"
   ]
  },
  {
   "cell_type": "code",
   "execution_count": 25,
   "metadata": {
    "ExecuteTime": {
     "end_time": "2022-08-17T17:07:35.211521Z",
     "start_time": "2022-08-17T17:07:35.191830Z"
    }
   },
   "outputs": [
    {
     "data": {
      "text/plain": [
       "id                                 object\n",
       "date_account_created       datetime64[ns]\n",
       "timestamp_first_active     datetime64[ns]\n",
       "date_first_booking         datetime64[ns]\n",
       "gender                             object\n",
       "age                                 int64\n",
       "signup_method                      object\n",
       "signup_flow                         int64\n",
       "language                           object\n",
       "affiliate_channel                  object\n",
       "affiliate_provider                 object\n",
       "first_affiliate_tracked            object\n",
       "signup_app                         object\n",
       "first_device_type                  object\n",
       "first_browser                      object\n",
       "country_destination                object\n",
       "dtype: object"
      ]
     },
     "execution_count": 25,
     "metadata": {},
     "output_type": "execute_result"
    }
   ],
   "source": [
    "df1.dtypes"
   ]
  },
  {
   "cell_type": "code",
   "execution_count": 26,
   "metadata": {
    "ExecuteTime": {
     "end_time": "2022-08-17T17:07:37.473724Z",
     "start_time": "2022-08-17T17:07:37.433550Z"
    }
   },
   "outputs": [
    {
     "data": {
      "text/html": [
       "<div>\n",
       "<style scoped>\n",
       "    .dataframe tbody tr th:only-of-type {\n",
       "        vertical-align: middle;\n",
       "    }\n",
       "\n",
       "    .dataframe tbody tr th {\n",
       "        vertical-align: top;\n",
       "    }\n",
       "\n",
       "    .dataframe thead th {\n",
       "        text-align: right;\n",
       "    }\n",
       "</style>\n",
       "<table border=\"1\" class=\"dataframe\">\n",
       "  <thead>\n",
       "    <tr style=\"text-align: right;\">\n",
       "      <th></th>\n",
       "      <th>34424</th>\n",
       "    </tr>\n",
       "  </thead>\n",
       "  <tbody>\n",
       "    <tr>\n",
       "      <th>id</th>\n",
       "      <td>56y7e26n6b</td>\n",
       "    </tr>\n",
       "    <tr>\n",
       "      <th>date_account_created</th>\n",
       "      <td>2012-07-31 00:00:00</td>\n",
       "    </tr>\n",
       "    <tr>\n",
       "      <th>timestamp_first_active</th>\n",
       "      <td>2012-07-31 07:39:36</td>\n",
       "    </tr>\n",
       "    <tr>\n",
       "      <th>date_first_booking</th>\n",
       "      <td>2012-11-07 00:00:00</td>\n",
       "    </tr>\n",
       "    <tr>\n",
       "      <th>gender</th>\n",
       "      <td>MALE</td>\n",
       "    </tr>\n",
       "    <tr>\n",
       "      <th>age</th>\n",
       "      <td>28</td>\n",
       "    </tr>\n",
       "    <tr>\n",
       "      <th>signup_method</th>\n",
       "      <td>facebook</td>\n",
       "    </tr>\n",
       "    <tr>\n",
       "      <th>signup_flow</th>\n",
       "      <td>0</td>\n",
       "    </tr>\n",
       "    <tr>\n",
       "      <th>language</th>\n",
       "      <td>en</td>\n",
       "    </tr>\n",
       "    <tr>\n",
       "      <th>affiliate_channel</th>\n",
       "      <td>sem-non-brand</td>\n",
       "    </tr>\n",
       "    <tr>\n",
       "      <th>affiliate_provider</th>\n",
       "      <td>google</td>\n",
       "    </tr>\n",
       "    <tr>\n",
       "      <th>first_affiliate_tracked</th>\n",
       "      <td>omg</td>\n",
       "    </tr>\n",
       "    <tr>\n",
       "      <th>signup_app</th>\n",
       "      <td>Web</td>\n",
       "    </tr>\n",
       "    <tr>\n",
       "      <th>first_device_type</th>\n",
       "      <td>Windows Desktop</td>\n",
       "    </tr>\n",
       "    <tr>\n",
       "      <th>first_browser</th>\n",
       "      <td>Chrome</td>\n",
       "    </tr>\n",
       "    <tr>\n",
       "      <th>country_destination</th>\n",
       "      <td>other</td>\n",
       "    </tr>\n",
       "  </tbody>\n",
       "</table>\n",
       "</div>"
      ],
      "text/plain": [
       "                                       34424\n",
       "id                                56y7e26n6b\n",
       "date_account_created     2012-07-31 00:00:00\n",
       "timestamp_first_active   2012-07-31 07:39:36\n",
       "date_first_booking       2012-11-07 00:00:00\n",
       "gender                                  MALE\n",
       "age                                       28\n",
       "signup_method                       facebook\n",
       "signup_flow                                0\n",
       "language                                  en\n",
       "affiliate_channel              sem-non-brand\n",
       "affiliate_provider                    google\n",
       "first_affiliate_tracked                  omg\n",
       "signup_app                               Web\n",
       "first_device_type            Windows Desktop\n",
       "first_browser                         Chrome\n",
       "country_destination                    other"
      ]
     },
     "execution_count": 26,
     "metadata": {},
     "output_type": "execute_result"
    }
   ],
   "source": [
    "df1.sample().T"
   ]
  },
  {
   "cell_type": "markdown",
   "metadata": {},
   "source": [
    "## 1.4. Check Balanced Data"
   ]
  },
  {
   "cell_type": "code",
   "execution_count": 27,
   "metadata": {
    "ExecuteTime": {
     "end_time": "2022-08-17T17:07:41.991724Z",
     "start_time": "2022-08-17T17:07:41.943000Z"
    }
   },
   "outputs": [
    {
     "data": {
      "text/plain": [
       "US       0.708864\n",
       "other    0.110854\n",
       "FR       0.054085\n",
       "IT       0.029763\n",
       "GB       0.025935\n",
       "ES       0.024864\n",
       "CA       0.015696\n",
       "DE       0.012454\n",
       "NL       0.008801\n",
       "AU       0.006366\n",
       "PT       0.002318\n",
       "Name: country_destination, dtype: float64"
      ]
     },
     "execution_count": 27,
     "metadata": {},
     "output_type": "execute_result"
    }
   ],
   "source": [
    "df1['country_destination'].value_counts( normalize=True )"
   ]
  },
  {
   "cell_type": "markdown",
   "metadata": {},
   "source": [
    "# 2.0. Data Filtering"
   ]
  },
  {
   "cell_type": "code",
   "execution_count": 81,
   "metadata": {
    "ExecuteTime": {
     "end_time": "2022-08-17T18:04:58.285700Z",
     "start_time": "2022-08-17T18:04:58.261141Z"
    }
   },
   "outputs": [],
   "source": [
    "df2 = df1.copy()"
   ]
  },
  {
   "cell_type": "markdown",
   "metadata": {},
   "source": [
    "## 2.1. Filtering Rows"
   ]
  },
  {
   "cell_type": "markdown",
   "metadata": {},
   "source": [
    "## 2.2. Columns Selection"
   ]
  },
  {
   "cell_type": "markdown",
   "metadata": {},
   "source": [
    "# 3.0. Data Preparation"
   ]
  },
  {
   "cell_type": "code",
   "execution_count": 102,
   "metadata": {
    "ExecuteTime": {
     "end_time": "2022-08-17T18:06:27.094789Z",
     "start_time": "2022-08-17T18:06:27.079268Z"
    }
   },
   "outputs": [],
   "source": [
    "df3 = df2.copy()"
   ]
  },
  {
   "cell_type": "code",
   "execution_count": 103,
   "metadata": {
    "ExecuteTime": {
     "end_time": "2022-08-17T18:06:27.613839Z",
     "start_time": "2022-08-17T18:06:27.600119Z"
    }
   },
   "outputs": [
    {
     "data": {
      "text/plain": [
       "(68171, 16)"
      ]
     },
     "execution_count": 103,
     "metadata": {},
     "output_type": "execute_result"
    }
   ],
   "source": [
    "df3.shape"
   ]
  },
  {
   "cell_type": "code",
   "execution_count": 104,
   "metadata": {
    "ExecuteTime": {
     "end_time": "2022-08-17T18:06:28.602430Z",
     "start_time": "2022-08-17T18:06:28.252567Z"
    }
   },
   "outputs": [],
   "source": [
    "# dummy variable\n",
    "df3_dummy = pd.get_dummies( df3.drop( ['id', 'country_destination'], axis=1 ) )\n",
    "\n",
    "# join id and country destination\n",
    "df3 = pd.concat( [df3[['id','country_destination']], df3_dummy], axis=1 )"
   ]
  },
  {
   "cell_type": "code",
   "execution_count": 105,
   "metadata": {
    "ExecuteTime": {
     "end_time": "2022-08-17T18:06:29.597167Z",
     "start_time": "2022-08-17T18:06:29.582883Z"
    }
   },
   "outputs": [
    {
     "data": {
      "text/plain": [
       "(68171, 117)"
      ]
     },
     "execution_count": 105,
     "metadata": {},
     "output_type": "execute_result"
    }
   ],
   "source": [
    "df3.shape"
   ]
  },
  {
   "cell_type": "markdown",
   "metadata": {},
   "source": [
    "# 4.0. Feature Selection"
   ]
  },
  {
   "cell_type": "code",
   "execution_count": 106,
   "metadata": {
    "ExecuteTime": {
     "end_time": "2022-08-17T18:06:30.757203Z",
     "start_time": "2022-08-17T18:06:30.725380Z"
    }
   },
   "outputs": [],
   "source": [
    "# Remove columns irelevants to training models \n",
    "cols_drop = ['date_account_created', 'timestamp_first_active', 'date_first_booking'] # original dates\n",
    "df4 = df3.drop( cols_drop, axis=1 )"
   ]
  },
  {
   "cell_type": "code",
   "execution_count": 107,
   "metadata": {
    "ExecuteTime": {
     "end_time": "2022-08-17T18:06:31.628260Z",
     "start_time": "2022-08-17T18:06:31.589408Z"
    }
   },
   "outputs": [
    {
     "data": {
      "text/html": [
       "<div>\n",
       "<style scoped>\n",
       "    .dataframe tbody tr th:only-of-type {\n",
       "        vertical-align: middle;\n",
       "    }\n",
       "\n",
       "    .dataframe tbody tr th {\n",
       "        vertical-align: top;\n",
       "    }\n",
       "\n",
       "    .dataframe thead th {\n",
       "        text-align: right;\n",
       "    }\n",
       "</style>\n",
       "<table border=\"1\" class=\"dataframe\">\n",
       "  <thead>\n",
       "    <tr style=\"text-align: right;\">\n",
       "      <th></th>\n",
       "      <th>186248</th>\n",
       "    </tr>\n",
       "  </thead>\n",
       "  <tbody>\n",
       "    <tr>\n",
       "      <th>id</th>\n",
       "      <td>enfnzd4grp</td>\n",
       "    </tr>\n",
       "    <tr>\n",
       "      <th>country_destination</th>\n",
       "      <td>US</td>\n",
       "    </tr>\n",
       "    <tr>\n",
       "      <th>age</th>\n",
       "      <td>38</td>\n",
       "    </tr>\n",
       "    <tr>\n",
       "      <th>signup_flow</th>\n",
       "      <td>25</td>\n",
       "    </tr>\n",
       "    <tr>\n",
       "      <th>gender_-unknown-</th>\n",
       "      <td>0</td>\n",
       "    </tr>\n",
       "    <tr>\n",
       "      <th>...</th>\n",
       "      <td>...</td>\n",
       "    </tr>\n",
       "    <tr>\n",
       "      <th>first_browser_Sogou Explorer</th>\n",
       "      <td>0</td>\n",
       "    </tr>\n",
       "    <tr>\n",
       "      <th>first_browser_Stainless</th>\n",
       "      <td>0</td>\n",
       "    </tr>\n",
       "    <tr>\n",
       "      <th>first_browser_TenFourFox</th>\n",
       "      <td>0</td>\n",
       "    </tr>\n",
       "    <tr>\n",
       "      <th>first_browser_TheWorld Browser</th>\n",
       "      <td>0</td>\n",
       "    </tr>\n",
       "    <tr>\n",
       "      <th>first_browser_Yandex.Browser</th>\n",
       "      <td>0</td>\n",
       "    </tr>\n",
       "  </tbody>\n",
       "</table>\n",
       "<p>114 rows × 1 columns</p>\n",
       "</div>"
      ],
      "text/plain": [
       "                                    186248\n",
       "id                              enfnzd4grp\n",
       "country_destination                     US\n",
       "age                                     38\n",
       "signup_flow                             25\n",
       "gender_-unknown-                         0\n",
       "...                                    ...\n",
       "first_browser_Sogou Explorer             0\n",
       "first_browser_Stainless                  0\n",
       "first_browser_TenFourFox                 0\n",
       "first_browser_TheWorld Browser           0\n",
       "first_browser_Yandex.Browser             0\n",
       "\n",
       "[114 rows x 1 columns]"
      ]
     },
     "execution_count": 107,
     "metadata": {},
     "output_type": "execute_result"
    }
   ],
   "source": [
    "df4.sample().T"
   ]
  },
  {
   "cell_type": "markdown",
   "metadata": {},
   "source": [
    "# 5.0. Machine Learning Model  - Neural Network MLP"
   ]
  },
  {
   "cell_type": "code",
   "execution_count": 108,
   "metadata": {
    "ExecuteTime": {
     "end_time": "2022-08-17T18:06:32.907957Z",
     "start_time": "2022-08-17T18:06:32.879875Z"
    }
   },
   "outputs": [],
   "source": [
    "# Select data to train and test or \"train, validation, test\"\n",
    "\n",
    "# On X_train drop to 'country_destination' response variable \n",
    "x = df4.drop( 'country_destination', axis=1 )\n",
    "\n",
    "# On y_train include 'country_destination'\n",
    "y = df4['country_destination'].copy()"
   ]
  },
  {
   "cell_type": "code",
   "execution_count": 109,
   "metadata": {
    "ExecuteTime": {
     "end_time": "2022-08-17T18:06:33.532814Z",
     "start_time": "2022-08-17T18:06:33.487129Z"
    }
   },
   "outputs": [
    {
     "data": {
      "text/html": [
       "<div>\n",
       "<style scoped>\n",
       "    .dataframe tbody tr th:only-of-type {\n",
       "        vertical-align: middle;\n",
       "    }\n",
       "\n",
       "    .dataframe tbody tr th {\n",
       "        vertical-align: top;\n",
       "    }\n",
       "\n",
       "    .dataframe thead th {\n",
       "        text-align: right;\n",
       "    }\n",
       "</style>\n",
       "<table border=\"1\" class=\"dataframe\">\n",
       "  <thead>\n",
       "    <tr style=\"text-align: right;\">\n",
       "      <th></th>\n",
       "      <th>id</th>\n",
       "      <th>age</th>\n",
       "      <th>signup_flow</th>\n",
       "      <th>gender_-unknown-</th>\n",
       "      <th>gender_FEMALE</th>\n",
       "      <th>gender_MALE</th>\n",
       "      <th>gender_OTHER</th>\n",
       "      <th>signup_method_basic</th>\n",
       "      <th>signup_method_facebook</th>\n",
       "      <th>signup_method_google</th>\n",
       "      <th>...</th>\n",
       "      <th>first_browser_Safari</th>\n",
       "      <th>first_browser_SeaMonkey</th>\n",
       "      <th>first_browser_Silk</th>\n",
       "      <th>first_browser_SiteKiosk</th>\n",
       "      <th>first_browser_SlimBrowser</th>\n",
       "      <th>first_browser_Sogou Explorer</th>\n",
       "      <th>first_browser_Stainless</th>\n",
       "      <th>first_browser_TenFourFox</th>\n",
       "      <th>first_browser_TheWorld Browser</th>\n",
       "      <th>first_browser_Yandex.Browser</th>\n",
       "    </tr>\n",
       "  </thead>\n",
       "  <tbody>\n",
       "    <tr>\n",
       "      <th>2</th>\n",
       "      <td>4ft3gnwmtx</td>\n",
       "      <td>56</td>\n",
       "      <td>3</td>\n",
       "      <td>0</td>\n",
       "      <td>1</td>\n",
       "      <td>0</td>\n",
       "      <td>0</td>\n",
       "      <td>1</td>\n",
       "      <td>0</td>\n",
       "      <td>0</td>\n",
       "      <td>...</td>\n",
       "      <td>0</td>\n",
       "      <td>0</td>\n",
       "      <td>0</td>\n",
       "      <td>0</td>\n",
       "      <td>0</td>\n",
       "      <td>0</td>\n",
       "      <td>0</td>\n",
       "      <td>0</td>\n",
       "      <td>0</td>\n",
       "      <td>0</td>\n",
       "    </tr>\n",
       "    <tr>\n",
       "      <th>3</th>\n",
       "      <td>bjjt8pjhuk</td>\n",
       "      <td>42</td>\n",
       "      <td>0</td>\n",
       "      <td>0</td>\n",
       "      <td>1</td>\n",
       "      <td>0</td>\n",
       "      <td>0</td>\n",
       "      <td>0</td>\n",
       "      <td>1</td>\n",
       "      <td>0</td>\n",
       "      <td>...</td>\n",
       "      <td>0</td>\n",
       "      <td>0</td>\n",
       "      <td>0</td>\n",
       "      <td>0</td>\n",
       "      <td>0</td>\n",
       "      <td>0</td>\n",
       "      <td>0</td>\n",
       "      <td>0</td>\n",
       "      <td>0</td>\n",
       "      <td>0</td>\n",
       "    </tr>\n",
       "    <tr>\n",
       "      <th>4</th>\n",
       "      <td>87mebub9p4</td>\n",
       "      <td>41</td>\n",
       "      <td>0</td>\n",
       "      <td>1</td>\n",
       "      <td>0</td>\n",
       "      <td>0</td>\n",
       "      <td>0</td>\n",
       "      <td>1</td>\n",
       "      <td>0</td>\n",
       "      <td>0</td>\n",
       "      <td>...</td>\n",
       "      <td>0</td>\n",
       "      <td>0</td>\n",
       "      <td>0</td>\n",
       "      <td>0</td>\n",
       "      <td>0</td>\n",
       "      <td>0</td>\n",
       "      <td>0</td>\n",
       "      <td>0</td>\n",
       "      <td>0</td>\n",
       "      <td>0</td>\n",
       "    </tr>\n",
       "  </tbody>\n",
       "</table>\n",
       "<p>3 rows × 113 columns</p>\n",
       "</div>"
      ],
      "text/plain": [
       "           id  age  signup_flow  gender_-unknown-  gender_FEMALE  gender_MALE  \\\n",
       "2  4ft3gnwmtx   56            3                 0              1            0   \n",
       "3  bjjt8pjhuk   42            0                 0              1            0   \n",
       "4  87mebub9p4   41            0                 1              0            0   \n",
       "\n",
       "   gender_OTHER  signup_method_basic  signup_method_facebook  \\\n",
       "2             0                    1                       0   \n",
       "3             0                    0                       1   \n",
       "4             0                    1                       0   \n",
       "\n",
       "   signup_method_google  ...  first_browser_Safari  first_browser_SeaMonkey  \\\n",
       "2                     0  ...                     0                        0   \n",
       "3                     0  ...                     0                        0   \n",
       "4                     0  ...                     0                        0   \n",
       "\n",
       "   first_browser_Silk  first_browser_SiteKiosk  first_browser_SlimBrowser  \\\n",
       "2                   0                        0                          0   \n",
       "3                   0                        0                          0   \n",
       "4                   0                        0                          0   \n",
       "\n",
       "   first_browser_Sogou Explorer  first_browser_Stainless  \\\n",
       "2                             0                        0   \n",
       "3                             0                        0   \n",
       "4                             0                        0   \n",
       "\n",
       "   first_browser_TenFourFox  first_browser_TheWorld Browser  \\\n",
       "2                         0                               0   \n",
       "3                         0                               0   \n",
       "4                         0                               0   \n",
       "\n",
       "   first_browser_Yandex.Browser  \n",
       "2                             0  \n",
       "3                             0  \n",
       "4                             0  \n",
       "\n",
       "[3 rows x 113 columns]"
      ]
     },
     "execution_count": 109,
     "metadata": {},
     "output_type": "execute_result"
    }
   ],
   "source": [
    "x.head(3)"
   ]
  },
  {
   "cell_type": "code",
   "execution_count": 110,
   "metadata": {
    "ExecuteTime": {
     "end_time": "2022-08-17T18:06:34.319303Z",
     "start_time": "2022-08-17T18:06:34.303152Z"
    }
   },
   "outputs": [
    {
     "data": {
      "text/plain": [
       "2       US\n",
       "3    other\n",
       "4       US\n",
       "Name: country_destination, dtype: object"
      ]
     },
     "execution_count": 110,
     "metadata": {},
     "output_type": "execute_result"
    }
   ],
   "source": [
    "y.head(3)"
   ]
  },
  {
   "cell_type": "code",
   "execution_count": 111,
   "metadata": {
    "ExecuteTime": {
     "end_time": "2022-08-17T18:06:35.388417Z",
     "start_time": "2022-08-17T18:06:35.136232Z"
    }
   },
   "outputs": [],
   "source": [
    "# Split dataset into training and test\n",
    "#80% train and 20% test\n",
    "\n",
    "X_train, X_test, y_train, y_test = ms.train_test_split( x, y, test_size=0.2, random_state=32 )"
   ]
  },
  {
   "cell_type": "code",
   "execution_count": 113,
   "metadata": {
    "ExecuteTime": {
     "end_time": "2022-08-17T18:07:02.417099Z",
     "start_time": "2022-08-17T18:07:02.369471Z"
    }
   },
   "outputs": [
    {
     "data": {
      "text/html": [
       "<div>\n",
       "<style scoped>\n",
       "    .dataframe tbody tr th:only-of-type {\n",
       "        vertical-align: middle;\n",
       "    }\n",
       "\n",
       "    .dataframe tbody tr th {\n",
       "        vertical-align: top;\n",
       "    }\n",
       "\n",
       "    .dataframe thead th {\n",
       "        text-align: right;\n",
       "    }\n",
       "</style>\n",
       "<table border=\"1\" class=\"dataframe\">\n",
       "  <thead>\n",
       "    <tr style=\"text-align: right;\">\n",
       "      <th></th>\n",
       "      <th>id</th>\n",
       "      <th>age</th>\n",
       "      <th>signup_flow</th>\n",
       "      <th>gender_-unknown-</th>\n",
       "      <th>gender_FEMALE</th>\n",
       "      <th>gender_MALE</th>\n",
       "      <th>gender_OTHER</th>\n",
       "      <th>signup_method_basic</th>\n",
       "      <th>signup_method_facebook</th>\n",
       "      <th>signup_method_google</th>\n",
       "      <th>...</th>\n",
       "      <th>first_browser_Safari</th>\n",
       "      <th>first_browser_SeaMonkey</th>\n",
       "      <th>first_browser_Silk</th>\n",
       "      <th>first_browser_SiteKiosk</th>\n",
       "      <th>first_browser_SlimBrowser</th>\n",
       "      <th>first_browser_Sogou Explorer</th>\n",
       "      <th>first_browser_Stainless</th>\n",
       "      <th>first_browser_TenFourFox</th>\n",
       "      <th>first_browser_TheWorld Browser</th>\n",
       "      <th>first_browser_Yandex.Browser</th>\n",
       "    </tr>\n",
       "  </thead>\n",
       "  <tbody>\n",
       "    <tr>\n",
       "      <th>22531</th>\n",
       "      <td>b9eperouva</td>\n",
       "      <td>22</td>\n",
       "      <td>0</td>\n",
       "      <td>0</td>\n",
       "      <td>1</td>\n",
       "      <td>0</td>\n",
       "      <td>0</td>\n",
       "      <td>0</td>\n",
       "      <td>1</td>\n",
       "      <td>0</td>\n",
       "      <td>...</td>\n",
       "      <td>0</td>\n",
       "      <td>0</td>\n",
       "      <td>0</td>\n",
       "      <td>0</td>\n",
       "      <td>0</td>\n",
       "      <td>0</td>\n",
       "      <td>0</td>\n",
       "      <td>0</td>\n",
       "      <td>0</td>\n",
       "      <td>0</td>\n",
       "    </tr>\n",
       "    <tr>\n",
       "      <th>139247</th>\n",
       "      <td>6eqkvzq32e</td>\n",
       "      <td>63</td>\n",
       "      <td>0</td>\n",
       "      <td>0</td>\n",
       "      <td>1</td>\n",
       "      <td>0</td>\n",
       "      <td>0</td>\n",
       "      <td>1</td>\n",
       "      <td>0</td>\n",
       "      <td>0</td>\n",
       "      <td>...</td>\n",
       "      <td>1</td>\n",
       "      <td>0</td>\n",
       "      <td>0</td>\n",
       "      <td>0</td>\n",
       "      <td>0</td>\n",
       "      <td>0</td>\n",
       "      <td>0</td>\n",
       "      <td>0</td>\n",
       "      <td>0</td>\n",
       "      <td>0</td>\n",
       "    </tr>\n",
       "    <tr>\n",
       "      <th>170612</th>\n",
       "      <td>8wtjbmxmb3</td>\n",
       "      <td>35</td>\n",
       "      <td>25</td>\n",
       "      <td>0</td>\n",
       "      <td>0</td>\n",
       "      <td>1</td>\n",
       "      <td>0</td>\n",
       "      <td>1</td>\n",
       "      <td>0</td>\n",
       "      <td>0</td>\n",
       "      <td>...</td>\n",
       "      <td>0</td>\n",
       "      <td>0</td>\n",
       "      <td>0</td>\n",
       "      <td>0</td>\n",
       "      <td>0</td>\n",
       "      <td>0</td>\n",
       "      <td>0</td>\n",
       "      <td>0</td>\n",
       "      <td>0</td>\n",
       "      <td>0</td>\n",
       "    </tr>\n",
       "    <tr>\n",
       "      <th>2995</th>\n",
       "      <td>floutkfa37</td>\n",
       "      <td>28</td>\n",
       "      <td>3</td>\n",
       "      <td>1</td>\n",
       "      <td>0</td>\n",
       "      <td>0</td>\n",
       "      <td>0</td>\n",
       "      <td>1</td>\n",
       "      <td>0</td>\n",
       "      <td>0</td>\n",
       "      <td>...</td>\n",
       "      <td>1</td>\n",
       "      <td>0</td>\n",
       "      <td>0</td>\n",
       "      <td>0</td>\n",
       "      <td>0</td>\n",
       "      <td>0</td>\n",
       "      <td>0</td>\n",
       "      <td>0</td>\n",
       "      <td>0</td>\n",
       "      <td>0</td>\n",
       "    </tr>\n",
       "    <tr>\n",
       "      <th>73845</th>\n",
       "      <td>4au7h23zsl</td>\n",
       "      <td>30</td>\n",
       "      <td>0</td>\n",
       "      <td>0</td>\n",
       "      <td>0</td>\n",
       "      <td>1</td>\n",
       "      <td>0</td>\n",
       "      <td>0</td>\n",
       "      <td>1</td>\n",
       "      <td>0</td>\n",
       "      <td>...</td>\n",
       "      <td>0</td>\n",
       "      <td>0</td>\n",
       "      <td>0</td>\n",
       "      <td>0</td>\n",
       "      <td>0</td>\n",
       "      <td>0</td>\n",
       "      <td>0</td>\n",
       "      <td>0</td>\n",
       "      <td>0</td>\n",
       "      <td>0</td>\n",
       "    </tr>\n",
       "  </tbody>\n",
       "</table>\n",
       "<p>5 rows × 113 columns</p>\n",
       "</div>"
      ],
      "text/plain": [
       "                id  age  signup_flow  gender_-unknown-  gender_FEMALE  \\\n",
       "22531   b9eperouva   22            0                 0              1   \n",
       "139247  6eqkvzq32e   63            0                 0              1   \n",
       "170612  8wtjbmxmb3   35           25                 0              0   \n",
       "2995    floutkfa37   28            3                 1              0   \n",
       "73845   4au7h23zsl   30            0                 0              0   \n",
       "\n",
       "        gender_MALE  gender_OTHER  signup_method_basic  \\\n",
       "22531             0             0                    0   \n",
       "139247            0             0                    1   \n",
       "170612            1             0                    1   \n",
       "2995              0             0                    1   \n",
       "73845             1             0                    0   \n",
       "\n",
       "        signup_method_facebook  signup_method_google  ...  \\\n",
       "22531                        1                     0  ...   \n",
       "139247                       0                     0  ...   \n",
       "170612                       0                     0  ...   \n",
       "2995                         0                     0  ...   \n",
       "73845                        1                     0  ...   \n",
       "\n",
       "        first_browser_Safari  first_browser_SeaMonkey  first_browser_Silk  \\\n",
       "22531                      0                        0                   0   \n",
       "139247                     1                        0                   0   \n",
       "170612                     0                        0                   0   \n",
       "2995                       1                        0                   0   \n",
       "73845                      0                        0                   0   \n",
       "\n",
       "        first_browser_SiteKiosk  first_browser_SlimBrowser  \\\n",
       "22531                         0                          0   \n",
       "139247                        0                          0   \n",
       "170612                        0                          0   \n",
       "2995                          0                          0   \n",
       "73845                         0                          0   \n",
       "\n",
       "        first_browser_Sogou Explorer  first_browser_Stainless  \\\n",
       "22531                              0                        0   \n",
       "139247                             0                        0   \n",
       "170612                             0                        0   \n",
       "2995                               0                        0   \n",
       "73845                              0                        0   \n",
       "\n",
       "        first_browser_TenFourFox  first_browser_TheWorld Browser  \\\n",
       "22531                          0                               0   \n",
       "139247                         0                               0   \n",
       "170612                         0                               0   \n",
       "2995                           0                               0   \n",
       "73845                          0                               0   \n",
       "\n",
       "        first_browser_Yandex.Browser  \n",
       "22531                              0  \n",
       "139247                             0  \n",
       "170612                             0  \n",
       "2995                               0  \n",
       "73845                              0  \n",
       "\n",
       "[5 rows x 113 columns]"
      ]
     },
     "execution_count": 113,
     "metadata": {},
     "output_type": "execute_result"
    }
   ],
   "source": [
    "X_train.head()"
   ]
  },
  {
   "cell_type": "code",
   "execution_count": 114,
   "metadata": {
    "ExecuteTime": {
     "end_time": "2022-08-17T18:07:03.704318Z",
     "start_time": "2022-08-17T18:07:03.680116Z"
    }
   },
   "outputs": [],
   "source": [
    "# Drop id to dataset\n",
    "\n",
    "x_train = X_train.drop('id',axis=1)\n",
    "x_test = X_test.drop('id', axis=1)"
   ]
  },
  {
   "cell_type": "code",
   "execution_count": 115,
   "metadata": {
    "ExecuteTime": {
     "end_time": "2022-08-17T18:07:05.775108Z",
     "start_time": "2022-08-17T18:07:05.760933Z"
    }
   },
   "outputs": [
    {
     "data": {
      "text/plain": [
       "(54536, 113)"
      ]
     },
     "execution_count": 115,
     "metadata": {},
     "output_type": "execute_result"
    }
   ],
   "source": [
    "X_train.shape"
   ]
  },
  {
   "cell_type": "code",
   "execution_count": 116,
   "metadata": {
    "ExecuteTime": {
     "end_time": "2022-08-17T18:07:10.010319Z",
     "start_time": "2022-08-17T18:07:09.998648Z"
    }
   },
   "outputs": [
    {
     "data": {
      "text/plain": [
       "(13635, 113)"
      ]
     },
     "execution_count": 116,
     "metadata": {},
     "output_type": "execute_result"
    }
   ],
   "source": [
    "X_test.shape"
   ]
  },
  {
   "cell_type": "code",
   "execution_count": 117,
   "metadata": {
    "ExecuteTime": {
     "end_time": "2022-08-17T18:07:11.592934Z",
     "start_time": "2022-08-17T18:07:11.504433Z"
    }
   },
   "outputs": [],
   "source": [
    "# One hot encoding (categoric variables -> numeric variables)\n",
    "\n",
    "ohe = pp.OneHotEncoder()\n",
    "y_train_nn = ohe.fit_transform( y_train.values.reshape( -1, 1 ) ).toarray()"
   ]
  },
  {
   "cell_type": "code",
   "execution_count": 118,
   "metadata": {
    "ExecuteTime": {
     "end_time": "2022-08-17T18:07:12.427279Z",
     "start_time": "2022-08-17T18:07:12.414251Z"
    }
   },
   "outputs": [
    {
     "data": {
      "text/plain": [
       "array([[0., 0., 0., ..., 0., 1., 0.],\n",
       "       [0., 0., 0., ..., 0., 0., 0.],\n",
       "       [0., 0., 0., ..., 0., 0., 0.],\n",
       "       ...,\n",
       "       [0., 0., 0., ..., 0., 1., 0.],\n",
       "       [0., 0., 0., ..., 0., 0., 0.],\n",
       "       [0., 0., 0., ..., 0., 1., 0.]])"
      ]
     },
     "execution_count": 118,
     "metadata": {},
     "output_type": "execute_result"
    }
   ],
   "source": [
    "y_train_nn"
   ]
  },
  {
   "cell_type": "code",
   "execution_count": 119,
   "metadata": {
    "ExecuteTime": {
     "end_time": "2022-08-17T18:18:36.380067Z",
     "start_time": "2022-08-17T18:07:13.271637Z"
    }
   },
   "outputs": [
    {
     "name": "stdout",
     "output_type": "stream",
     "text": [
      "Epoch 1/100\n",
      "1705/1705 [==============================] - 7s 4ms/step - loss: 1.3047 - accuracy: 0.7073\n",
      "Epoch 2/100\n",
      "1705/1705 [==============================] - 9s 5ms/step - loss: 1.2648 - accuracy: 0.7079\n",
      "Epoch 3/100\n",
      "1705/1705 [==============================] - 7s 4ms/step - loss: 1.2319 - accuracy: 0.7084\n",
      "Epoch 4/100\n",
      "1705/1705 [==============================] - 9s 5ms/step - loss: 1.1959 - accuracy: 0.7087\n",
      "Epoch 5/100\n",
      "1705/1705 [==============================] - 9s 5ms/step - loss: 1.1818 - accuracy: 0.7085\n",
      "Epoch 6/100\n",
      "1705/1705 [==============================] - 9s 5ms/step - loss: 1.1738 - accuracy: 0.7085\n",
      "Epoch 7/100\n",
      "1705/1705 [==============================] - 7s 4ms/step - loss: 1.1605 - accuracy: 0.7086\n",
      "Epoch 8/100\n",
      "1705/1705 [==============================] - 6s 4ms/step - loss: 1.1519 - accuracy: 0.7086\n",
      "Epoch 9/100\n",
      "1705/1705 [==============================] - 5s 3ms/step - loss: 1.1447 - accuracy: 0.7088\n",
      "Epoch 10/100\n",
      "1705/1705 [==============================] - 5s 3ms/step - loss: 1.1375 - accuracy: 0.7087\n",
      "Epoch 11/100\n",
      "1705/1705 [==============================] - 5s 3ms/step - loss: 1.1377 - accuracy: 0.7090\n",
      "Epoch 12/100\n",
      "1705/1705 [==============================] - 5s 3ms/step - loss: 1.1327 - accuracy: 0.7093\n",
      "Epoch 13/100\n",
      "1705/1705 [==============================] - 5s 3ms/step - loss: 1.1311 - accuracy: 0.7093\n",
      "Epoch 14/100\n",
      "1705/1705 [==============================] - 5s 3ms/step - loss: 1.1299 - accuracy: 0.7094\n",
      "Epoch 15/100\n",
      "1705/1705 [==============================] - 5s 3ms/step - loss: 1.1288 - accuracy: 0.7095\n",
      "Epoch 16/100\n",
      "1705/1705 [==============================] - 5s 3ms/step - loss: 1.1301 - accuracy: 0.7095\n",
      "Epoch 17/100\n",
      "1705/1705 [==============================] - 7s 4ms/step - loss: 1.1279 - accuracy: 0.7095\n",
      "Epoch 18/100\n",
      "1705/1705 [==============================] - 7s 4ms/step - loss: 1.1260 - accuracy: 0.7096\n",
      "Epoch 19/100\n",
      "1705/1705 [==============================] - 7s 4ms/step - loss: 1.1258 - accuracy: 0.7096\n",
      "Epoch 20/100\n",
      "1705/1705 [==============================] - 7s 4ms/step - loss: 1.1246 - accuracy: 0.7096\n",
      "Epoch 21/100\n",
      "1705/1705 [==============================] - 7s 4ms/step - loss: 1.1251 - accuracy: 0.7097\n",
      "Epoch 22/100\n",
      "1705/1705 [==============================] - 8s 5ms/step - loss: 1.1230 - accuracy: 0.7097\n",
      "Epoch 23/100\n",
      "1705/1705 [==============================] - 7s 4ms/step - loss: 1.1228 - accuracy: 0.7098\n",
      "Epoch 24/100\n",
      "1705/1705 [==============================] - 8s 5ms/step - loss: 1.1220 - accuracy: 0.7097\n",
      "Epoch 25/100\n",
      "1705/1705 [==============================] - 6s 4ms/step - loss: 1.1214 - accuracy: 0.7097\n",
      "Epoch 26/100\n",
      "1705/1705 [==============================] - 6s 3ms/step - loss: 1.1203 - accuracy: 0.7097\n",
      "Epoch 27/100\n",
      "1705/1705 [==============================] - 6s 3ms/step - loss: 1.1202 - accuracy: 0.7097\n",
      "Epoch 28/100\n",
      "1705/1705 [==============================] - 7s 4ms/step - loss: 1.1196 - accuracy: 0.7099\n",
      "Epoch 29/100\n",
      "1705/1705 [==============================] - 5s 3ms/step - loss: 1.1186 - accuracy: 0.7099\n",
      "Epoch 30/100\n",
      "1705/1705 [==============================] - 5s 3ms/step - loss: 1.1184 - accuracy: 0.7098\n",
      "Epoch 31/100\n",
      "1705/1705 [==============================] - 6s 3ms/step - loss: 1.1172 - accuracy: 0.7099\n",
      "Epoch 32/100\n",
      "1705/1705 [==============================] - 5s 3ms/step - loss: 1.1163 - accuracy: 0.7099\n",
      "Epoch 33/100\n",
      "1705/1705 [==============================] - 6s 3ms/step - loss: 1.1159 - accuracy: 0.7099\n",
      "Epoch 34/100\n",
      "1705/1705 [==============================] - 5s 3ms/step - loss: 1.1158 - accuracy: 0.7099\n",
      "Epoch 35/100\n",
      "1705/1705 [==============================] - 5s 3ms/step - loss: 1.1158 - accuracy: 0.7101\n",
      "Epoch 36/100\n",
      "1705/1705 [==============================] - 5s 3ms/step - loss: 1.1151 - accuracy: 0.7101\n",
      "Epoch 37/100\n",
      "1705/1705 [==============================] - 6s 3ms/step - loss: 1.1141 - accuracy: 0.7101\n",
      "Epoch 38/100\n",
      "1705/1705 [==============================] - 5s 3ms/step - loss: 1.1132 - accuracy: 0.7102\n",
      "Epoch 39/100\n",
      "1705/1705 [==============================] - 5s 3ms/step - loss: 1.1135 - accuracy: 0.7101\n",
      "Epoch 40/100\n",
      "1705/1705 [==============================] - 7s 4ms/step - loss: 1.1122 - accuracy: 0.7100\n",
      "Epoch 41/100\n",
      "1705/1705 [==============================] - 7s 4ms/step - loss: 1.1120 - accuracy: 0.7102\n",
      "Epoch 42/100\n",
      "1705/1705 [==============================] - 6s 4ms/step - loss: 1.1118 - accuracy: 0.7101\n",
      "Epoch 43/100\n",
      "1705/1705 [==============================] - 7s 4ms/step - loss: 1.1115 - accuracy: 0.7101\n",
      "Epoch 44/100\n",
      "1705/1705 [==============================] - 6s 4ms/step - loss: 1.1112 - accuracy: 0.7102\n",
      "Epoch 45/100\n",
      "1705/1705 [==============================] - 7s 4ms/step - loss: 1.1109 - accuracy: 0.7104\n",
      "Epoch 46/100\n",
      "1705/1705 [==============================] - 6s 4ms/step - loss: 1.1104 - accuracy: 0.7104\n",
      "Epoch 47/100\n",
      "1705/1705 [==============================] - 7s 4ms/step - loss: 1.1104 - accuracy: 0.7103\n",
      "Epoch 48/100\n",
      "1705/1705 [==============================] - 8s 4ms/step - loss: 1.1095 - accuracy: 0.7103\n",
      "Epoch 49/100\n",
      "1705/1705 [==============================] - 9s 5ms/step - loss: 1.1095 - accuracy: 0.7102\n",
      "Epoch 50/100\n",
      "1705/1705 [==============================] - 8s 5ms/step - loss: 1.1088 - accuracy: 0.7105\n",
      "Epoch 51/100\n",
      "1705/1705 [==============================] - 8s 5ms/step - loss: 1.1085 - accuracy: 0.7106\n",
      "Epoch 52/100\n",
      "1705/1705 [==============================] - 8s 5ms/step - loss: 1.1084 - accuracy: 0.7105\n",
      "Epoch 53/100\n",
      "1705/1705 [==============================] - 9s 5ms/step - loss: 1.1077 - accuracy: 0.7104\n",
      "Epoch 54/100\n",
      "1705/1705 [==============================] - 10s 6ms/step - loss: 1.1080 - accuracy: 0.7106\n",
      "Epoch 55/100\n",
      "1705/1705 [==============================] - 7s 4ms/step - loss: 1.1073 - accuracy: 0.7106\n",
      "Epoch 56/100\n",
      "1705/1705 [==============================] - 6s 3ms/step - loss: 1.1068 - accuracy: 0.7108\n",
      "Epoch 57/100\n",
      "1705/1705 [==============================] - 6s 4ms/step - loss: 1.1064 - accuracy: 0.7108\n",
      "Epoch 58/100\n",
      "1705/1705 [==============================] - 7s 4ms/step - loss: 1.1060 - accuracy: 0.7107\n",
      "Epoch 59/100\n",
      "1705/1705 [==============================] - 6s 3ms/step - loss: 1.1061 - accuracy: 0.7108\n",
      "Epoch 60/100\n",
      "1705/1705 [==============================] - 8s 4ms/step - loss: 1.1050 - accuracy: 0.7110\n",
      "Epoch 61/100\n",
      "1705/1705 [==============================] - 9s 5ms/step - loss: 1.1061 - accuracy: 0.7106\n",
      "Epoch 62/100\n",
      "1705/1705 [==============================] - 9s 5ms/step - loss: 1.1056 - accuracy: 0.7110\n",
      "Epoch 63/100\n",
      "1705/1705 [==============================] - 8s 5ms/step - loss: 1.1047 - accuracy: 0.7106\n",
      "Epoch 64/100\n",
      "1705/1705 [==============================] - 6s 4ms/step - loss: 1.1046 - accuracy: 0.7108\n",
      "Epoch 65/100\n",
      "1705/1705 [==============================] - 6s 4ms/step - loss: 1.1043 - accuracy: 0.7110\n",
      "Epoch 66/100\n",
      "1705/1705 [==============================] - 6s 3ms/step - loss: 1.1038 - accuracy: 0.7110\n",
      "Epoch 67/100\n",
      "1705/1705 [==============================] - 8s 5ms/step - loss: 1.1035 - accuracy: 0.7109\n",
      "Epoch 68/100\n",
      "1705/1705 [==============================] - 8s 5ms/step - loss: 1.1032 - accuracy: 0.7110\n",
      "Epoch 69/100\n",
      "1705/1705 [==============================] - 7s 4ms/step - loss: 1.1019 - accuracy: 0.7111\n",
      "Epoch 70/100\n",
      "1705/1705 [==============================] - 6s 4ms/step - loss: 1.1037 - accuracy: 0.7109\n",
      "Epoch 71/100\n",
      "1705/1705 [==============================] - 7s 4ms/step - loss: 1.1028 - accuracy: 0.7111\n",
      "Epoch 72/100\n",
      "1705/1705 [==============================] - 8s 5ms/step - loss: 1.1023 - accuracy: 0.7109\n",
      "Epoch 73/100\n",
      "1705/1705 [==============================] - 7s 4ms/step - loss: 1.1022 - accuracy: 0.7111\n",
      "Epoch 74/100\n",
      "1705/1705 [==============================] - 7s 4ms/step - loss: 1.1023 - accuracy: 0.7111\n",
      "Epoch 75/100\n",
      "1705/1705 [==============================] - 7s 4ms/step - loss: 1.1026 - accuracy: 0.7114\n",
      "Epoch 76/100\n",
      "1705/1705 [==============================] - 8s 5ms/step - loss: 1.1016 - accuracy: 0.7110\n",
      "Epoch 77/100\n",
      "1705/1705 [==============================] - 7s 4ms/step - loss: 1.1015 - accuracy: 0.7114\n",
      "Epoch 78/100\n",
      "1705/1705 [==============================] - 7s 4ms/step - loss: 1.1015 - accuracy: 0.7113\n",
      "Epoch 79/100\n"
     ]
    },
    {
     "name": "stdout",
     "output_type": "stream",
     "text": [
      "1705/1705 [==============================] - 6s 4ms/step - loss: 1.1012 - accuracy: 0.7113\n",
      "Epoch 80/100\n",
      "1705/1705 [==============================] - 6s 4ms/step - loss: 1.1010 - accuracy: 0.7113\n",
      "Epoch 81/100\n",
      "1705/1705 [==============================] - 6s 4ms/step - loss: 1.1007 - accuracy: 0.7113\n",
      "Epoch 82/100\n",
      "1705/1705 [==============================] - 7s 4ms/step - loss: 1.1006 - accuracy: 0.7115\n",
      "Epoch 83/100\n",
      "1705/1705 [==============================] - 6s 4ms/step - loss: 1.0998 - accuracy: 0.7111\n",
      "Epoch 84/100\n",
      "1705/1705 [==============================] - 6s 4ms/step - loss: 1.1000 - accuracy: 0.7118\n",
      "Epoch 85/100\n",
      "1705/1705 [==============================] - 7s 4ms/step - loss: 1.0998 - accuracy: 0.7114\n",
      "Epoch 86/100\n",
      "1705/1705 [==============================] - 7s 4ms/step - loss: 1.0992 - accuracy: 0.7117\n",
      "Epoch 87/100\n",
      "1705/1705 [==============================] - 6s 4ms/step - loss: 1.0989 - accuracy: 0.7115\n",
      "Epoch 88/100\n",
      "1705/1705 [==============================] - 6s 4ms/step - loss: 1.0990 - accuracy: 0.7115\n",
      "Epoch 89/100\n",
      "1705/1705 [==============================] - 6s 4ms/step - loss: 1.0992 - accuracy: 0.7117\n",
      "Epoch 90/100\n",
      "1705/1705 [==============================] - 6s 4ms/step - loss: 1.0991 - accuracy: 0.7117\n",
      "Epoch 91/100\n",
      "1705/1705 [==============================] - 6s 4ms/step - loss: 1.0984 - accuracy: 0.7118\n",
      "Epoch 92/100\n",
      "1705/1705 [==============================] - 6s 4ms/step - loss: 1.0988 - accuracy: 0.7114\n",
      "Epoch 93/100\n",
      "1705/1705 [==============================] - 6s 4ms/step - loss: 1.0982 - accuracy: 0.7117\n",
      "Epoch 94/100\n",
      "1705/1705 [==============================] - 6s 4ms/step - loss: 1.0990 - accuracy: 0.7116\n",
      "Epoch 95/100\n",
      "1705/1705 [==============================] - 6s 4ms/step - loss: 1.0977 - accuracy: 0.7116\n",
      "Epoch 96/100\n",
      "1705/1705 [==============================] - 7s 4ms/step - loss: 1.0979 - accuracy: 0.7117\n",
      "Epoch 97/100\n",
      "1705/1705 [==============================] - 6s 4ms/step - loss: 1.0987 - accuracy: 0.7117\n",
      "Epoch 98/100\n",
      "1705/1705 [==============================] - 7s 4ms/step - loss: 1.0971 - accuracy: 0.7118\n",
      "Epoch 99/100\n",
      "1705/1705 [==============================] - 6s 4ms/step - loss: 1.0978 - accuracy: 0.7118\n",
      "Epoch 100/100\n",
      "1705/1705 [==============================] - 6s 4ms/step - loss: 1.0973 - accuracy: 0.7115\n"
     ]
    },
    {
     "data": {
      "text/plain": [
       "<keras.callbacks.History at 0x7f7ff3de8100>"
      ]
     },
     "execution_count": 119,
     "metadata": {},
     "output_type": "execute_result"
    }
   ],
   "source": [
    "# model definition\n",
    "model = ml.Sequential()\n",
    "model.add( l.Dense( 128, input_dim= x_train.shape[1], activation='relu' ) )\n",
    "model.add( l.Dense( 11, activation='softmax') )\n",
    "\n",
    "# model compile\n",
    "model.compile( loss='categorical_crossentropy', optimizer='adam', metrics=['accuracy'] )\n",
    "\n",
    "# train model\n",
    "model.fit( x_train, y_train_nn, epochs=100 )"
   ]
  },
  {
   "cell_type": "markdown",
   "metadata": {},
   "source": [
    "## 5.1. NN Performance"
   ]
  },
  {
   "cell_type": "code",
   "execution_count": 121,
   "metadata": {
    "ExecuteTime": {
     "end_time": "2022-08-17T18:18:39.358381Z",
     "start_time": "2022-08-17T18:18:39.343257Z"
    }
   },
   "outputs": [
    {
     "data": {
      "text/plain": [
       "22531        US\n",
       "139247       FR\n",
       "170612       IT\n",
       "2995         US\n",
       "73845        US\n",
       "          ...  \n",
       "165842       US\n",
       "71991     other\n",
       "59064        US\n",
       "187388       IT\n",
       "30096        US\n",
       "Name: country_destination, Length: 54536, dtype: object"
      ]
     },
     "execution_count": 121,
     "metadata": {},
     "output_type": "execute_result"
    }
   ],
   "source": [
    "y_train"
   ]
  },
  {
   "cell_type": "code",
   "execution_count": 120,
   "metadata": {
    "ExecuteTime": {
     "end_time": "2022-08-17T18:18:39.326999Z",
     "start_time": "2022-08-17T18:18:36.389805Z"
    }
   },
   "outputs": [
    {
     "name": "stdout",
     "output_type": "stream",
     "text": [
      "427/427 [==============================] - 2s 3ms/step\n"
     ]
    }
   ],
   "source": [
    "# prediction\n",
    "pred_nn = model.predict( x_test )\n",
    "\n",
    "# invert prediction\n",
    "yhat_nn = ohe.inverse_transform( pred_nn )\n",
    "\n",
    "# prediction prepare\n",
    "y_test_nn = y_test.to_numpy()\n",
    "yhat_nn   = yhat_nn.reshape( 1, -1 )[0]"
   ]
  },
  {
   "cell_type": "code",
   "execution_count": 123,
   "metadata": {
    "ExecuteTime": {
     "end_time": "2022-08-17T18:19:03.406118Z",
     "start_time": "2022-08-17T18:19:03.389091Z"
    }
   },
   "outputs": [
    {
     "data": {
      "text/plain": [
       "array(['US', 'US', 'US', ..., 'US', 'US', 'US'], dtype=object)"
      ]
     },
     "execution_count": 123,
     "metadata": {},
     "output_type": "execute_result"
    }
   ],
   "source": [
    "yhat_nn"
   ]
  },
  {
   "cell_type": "code",
   "execution_count": 124,
   "metadata": {
    "ExecuteTime": {
     "end_time": "2022-08-17T18:19:14.033060Z",
     "start_time": "2022-08-17T18:19:14.019846Z"
    }
   },
   "outputs": [
    {
     "data": {
      "text/plain": [
       "array(['US', 'US', 'US', ..., 'US', 'US', 'US'], dtype=object)"
      ]
     },
     "execution_count": 124,
     "metadata": {},
     "output_type": "execute_result"
    }
   ],
   "source": [
    "y_test_nn"
   ]
  },
  {
   "cell_type": "code",
   "execution_count": 125,
   "metadata": {
    "ExecuteTime": {
     "end_time": "2022-08-17T18:19:16.152790Z",
     "start_time": "2022-08-17T18:19:14.878535Z"
    }
   },
   "outputs": [
    {
     "name": "stdout",
     "output_type": "stream",
     "text": [
      "Accuracy: 0.7033370003667033\n"
     ]
    },
    {
     "data": {
      "text/plain": [
       "<AxesSubplot:title={'center':'Confusion Matrix'}, xlabel='Predicted label', ylabel='True label'>"
      ]
     },
     "execution_count": 125,
     "metadata": {},
     "output_type": "execute_result"
    },
    {
     "data": {
      "image/png": "[encoded data removed]",
      "text/plain": [
       "<Figure size 864x864 with 2 Axes>"
      ]
     },
     "metadata": {
      "needs_background": "light"
     },
     "output_type": "display_data"
    }
   ],
   "source": [
    "# Accuracy (right/correct predict)\n",
    "acc_nn = m.accuracy_score( y_test_nn, yhat_nn )\n",
    "print( 'Accuracy: {}'.format( acc_nn ) )\n",
    "\n",
    "# Confusion Matrix\n",
    "mt.plot_confusion_matrix( y_test_nn, yhat_nn, normalize=False, figsize=(12,12))\n",
    "\n",
    "\n",
    "# Balanced Accuray\n",
    "# F-Score Balanced\n",
    "# Recall-Precison\n",
    "# ROC \n",
    "# Kappa Metrics\n",
    "# Matthew Metrics"
   ]
  },
  {
   "cell_type": "code",
   "execution_count": null,
   "metadata": {},
   "outputs": [],
   "source": []
  },
  {
   "cell_type": "code",
   "execution_count": null,
   "metadata": {},
   "outputs": [],
   "source": []
  },
  {
   "cell_type": "code",
   "execution_count": null,
   "metadata": {},
   "outputs": [],
   "source": []
  },
  {
   "cell_type": "code",
   "execution_count": null,
   "metadata": {},
   "outputs": [],
   "source": []
  },
  {
   "cell_type": "code",
   "execution_count": null,
   "metadata": {},
   "outputs": [],
   "source": []
  }
 ],
 "metadata": {
  "kernelspec": {
   "display_name": "Python 3 (ipykernel)",
   "language": "python",
   "name": "python3"
  },
  "language_info": {
   "codemirror_mode": {
    "name": "ipython",
    "version": 3
   },
   "file_extension": ".py",
   "mimetype": "text/x-python",
   "name": "python",
   "nbconvert_exporter": "python",
   "pygments_lexer": "ipython3",
   "version": "3.9.5"
  },
  "toc": {
   "base_numbering": 1,
   "nav_menu": {},
   "number_sections": true,
   "sideBar": true,
   "skip_h1_title": false,
   "title_cell": "Table of Contents",
   "title_sidebar": "Contents",
   "toc_cell": false,
   "toc_position": {},
   "toc_section_display": true,
   "toc_window_display": false
  }
 },
 "nbformat": 4,
 "nbformat_minor": 4
}
